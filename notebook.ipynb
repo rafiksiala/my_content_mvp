{
 "cells": [
  {
   "cell_type": "markdown",
   "id": "542ccfa7-56a9-4807-9322-63e9540da6e2",
   "metadata": {},
   "source": [
    "# My Content – Moteur de Recommandation d’Articles\n",
    "\n",
    "Bienvenue dans ce notebook dédié à la conception d’un premier moteur de recommandation pour la start-up **My Content**.\n",
    "\n",
    "Notre objectif : **encourager la lecture** en proposant à chaque utilisateur une sélection personnalisée de contenus pertinents.\n",
    "\n",
    "## Objectif de ce MVP\n",
    "\n",
    "Ce prototype vise à démontrer une première version fonctionnelle du système de recommandation, fondé sur les interactions passées entre utilisateurs et articles :\n",
    "\n",
    "> _\"En tant qu’utilisateur de l’application, je reçois une sélection de cinq articles adaptés à mes préférences.\"_\n",
    "\n",
    "## Données utilisées\n",
    "\n",
    "Nous exploitons ici des données publiques simulant des interactions réelles entre des utilisateurs et des articles. Elles sont extraites du dataset :\n",
    "\n",
    "> **[News portal user interactions by Globo.com – Kaggle](https://www.kaggle.com/datasets/gspmoreira/news-portal-user-interactions-by-globocom)**\n",
    "\n",
    "Les deux fichiers principaux utilisés :\n",
    "- `clicks_sample.csv` : historique de clics (utilisateur ↔ article)\n",
    "- `articles_metadata.csv` : informations descriptives sur les articles (titre, catégorie, etc.)\n",
    "\n",
    "## Approche de modélisation\n",
    "\n",
    "Nous commençons par une première approche basée sur le **filtrage collaboratif explicite** en utilisant la librairie **`Surprise`**. Les clics sont transformés en notes implicites (par exemple, nombre de clics par couple utilisateur-article) pour permettre l'entraînement de modèles comme SVD, NMF ou KNN.\n",
    "\n",
    "Cette première étape permet de tester rapidement plusieurs algorithmes de recommandation classiques sur un format tabulaire simple.\n",
    "\n",
    "À terme, cette approche pourra évoluer vers :\n",
    "- un système **hybride** combinant les similarités de contenu (des articles) avec les comportements utilisateurs\n",
    "- un moteur de recommandation **scalable** intégré à une architecture de production via une API (ex. Azure Functions)\n",
    "\n",
    "L’objectif est d’explorer différentes méthodes de recommandation, puis de comparer leurs performances sur des métriques communes telles que le Recall, le MRR ou la MAP."
   ]
  },
  {
   "cell_type": "code",
   "execution_count": 2,
   "id": "e6b24f7b-d60a-4794-bf2a-ebfb5391e319",
   "metadata": {},
   "outputs": [],
   "source": [
    "# Bibliothèques standard\n",
    "import os\n",
    "import random\n",
    "import pickle\n",
    "import logging\n",
    "from abc import ABC, abstractmethod\n",
    "\n",
    "# Manipulation de données\n",
    "import numpy as np\n",
    "import pandas as pd\n",
    "\n",
    "# Visualisation\n",
    "import matplotlib.pyplot as plt\n",
    "import seaborn as sns\n",
    "\n",
    "# Outils généraux\n",
    "from itertools import chain, product\n",
    "\n",
    "# Affichage de barres de progression\n",
    "from tqdm import tqdm\n",
    "\n",
    "# Calculs matriciels et similarités\n",
    "import scipy.sparse as sp\n",
    "from sklearn.metrics.pairwise import cosine_similarity\n",
    "from sklearn.preprocessing import LabelEncoder\n",
    "\n",
    "# Split aléatoire\n",
    "from sklearn.model_selection import train_test_split\n",
    "\n",
    "# PCA\n",
    "from sklearn.decomposition import PCA\n",
    "\n",
    "# Modèles de filtrage collaboratif explicite (Surprise)\n",
    "from surprise import Dataset, Reader, SVD, NMF, KNNWithMeans, accuracy\n",
    "from surprise.model_selection import train_test_split as surprise_train_test_split\n",
    "\n",
    "# Modèle de filtrage collaboratif implicite (Implicit)\n",
    "from implicit.als import AlternatingLeastSquares"
   ]
  },
  {
   "cell_type": "markdown",
   "id": "9e895e18-5f9e-4805-804a-23b382783d49",
   "metadata": {},
   "source": [
    "# Chargement et exploration des données\n",
    "\n",
    "Dans cette section, nous allons charger les deux jeux de données principaux :\n",
    "\n",
    "* Les fichiers horaires `clicks_hour_*.csv`, qui contiennent l’historique complet des interactions entre les utilisateurs et les articles (clics)\n",
    "* `articles_metadata.csv`, qui contient des informations descriptives sur chaque article\n",
    "\n",
    "Ces données nous permettront d’analyser le comportement global des utilisateurs et de comprendre la structure et le volume des interactions à modéliser. \n",
    "\n",
    "Nous effectuerons également une première exploration pour vérifier la qualité des données et leur adéquation avec les approches de recommandation envisagées."
   ]
  },
  {
   "cell_type": "code",
   "execution_count": 4,
   "id": "c12e31ce-d8de-43a3-9ce0-58c09970185a",
   "metadata": {},
   "outputs": [],
   "source": [
    "data_path = 'data/versions/2'"
   ]
  },
  {
   "cell_type": "markdown",
   "id": "82868875-06ca-40ef-af74-a4739dff51cc",
   "metadata": {},
   "source": [
    "Le dossier `clicks/` contient 24 fichiers (un par heure) représentant les clics utilisateurs sur les articles.  \n",
    "Nous allons les concaténer pour créer un seul DataFrame complet contenant l’historique global des interactions."
   ]
  },
  {
   "cell_type": "code",
   "execution_count": 6,
   "id": "b639d200-c880-49c9-a8b4-ca3bbba32546",
   "metadata": {},
   "outputs": [],
   "source": [
    "# Dossier contenant les fichiers\n",
    "clicks_dir = f\"{data_path}/clicks/clicks\"\n",
    "clicks_all = []\n",
    "\n",
    "# Fusionner tous les fichiers\n",
    "for file in os.listdir(clicks_dir):\n",
    "    if file.startswith(\"clicks_hour_\") and file.endswith(\".csv\"):\n",
    "        path = os.path.join(clicks_dir, file)\n",
    "        df = pd.read_csv(path)\n",
    "        clicks_all.append(df)\n",
    "\n",
    "clicks_df = pd.concat(clicks_all, ignore_index=True)\n",
    "\n",
    "clicks_df = sample_clicks_df = pd.read_csv(f\"{data_path}/clicks_sample.csv\")\n",
    "meta_df = pd.read_csv(f\"{data_path}/articles_metadata.csv\")\n",
    "\n",
    "article_ids = clicks_df[\"click_article_id\"].unique()\n",
    "all_article_ids = meta_df[\"article_id\"].tolist()"
   ]
  },
  {
   "cell_type": "code",
   "execution_count": 7,
   "id": "ff7a8691-d66a-4ea5-84ef-16c9b2432db8",
   "metadata": {},
   "outputs": [],
   "source": [
    "#clicks_df = clicks_df.sample(n=10000, random_state=42)"
   ]
  },
  {
   "cell_type": "markdown",
   "id": "926ae5c3-403f-412b-8117-db2fc006748b",
   "metadata": {},
   "source": [
    "## Aperçu des données\n",
    "\n",
    "- `clicks_sample.csv` contient les colonnes suivantes :\n",
    "\n",
    "    - `user_id` : identifiant unique d’un utilisateur\n",
    "    - `click_article_id` : identifiant de l’article cliqué\n",
    "    - `session_id`, `click_timestamp`, `click_deviceGroup`, etc. : informations de contexte de navigation\n",
    "\n",
    "- `articles_metadata.csv` fournit les colonnes suivantes :\n",
    "\n",
    "    - `article_id` : identifiant de l’article\n",
    "    - `title` : titre de l’article\n",
    "    - `category_id`, `publisher_id`, `word_count`, etc.\n"
   ]
  },
  {
   "cell_type": "code",
   "execution_count": 9,
   "id": "f089fbe4-14c0-49d5-b8c6-26d1559836ff",
   "metadata": {},
   "outputs": [
    {
     "name": "stdout",
     "output_type": "stream",
     "text": [
      "Interactions (clicks_sample.csv)\n",
      "\n",
      "(1883, 12)\n"
     ]
    },
    {
     "data": {
      "text/html": [
       "<div>\n",
       "<style scoped>\n",
       "    .dataframe tbody tr th:only-of-type {\n",
       "        vertical-align: middle;\n",
       "    }\n",
       "\n",
       "    .dataframe tbody tr th {\n",
       "        vertical-align: top;\n",
       "    }\n",
       "\n",
       "    .dataframe thead th {\n",
       "        text-align: right;\n",
       "    }\n",
       "</style>\n",
       "<table border=\"1\" class=\"dataframe\">\n",
       "  <thead>\n",
       "    <tr style=\"text-align: right;\">\n",
       "      <th></th>\n",
       "      <th>user_id</th>\n",
       "      <th>session_id</th>\n",
       "      <th>session_start</th>\n",
       "      <th>session_size</th>\n",
       "      <th>click_article_id</th>\n",
       "      <th>click_timestamp</th>\n",
       "      <th>click_environment</th>\n",
       "      <th>click_deviceGroup</th>\n",
       "      <th>click_os</th>\n",
       "      <th>click_country</th>\n",
       "      <th>click_region</th>\n",
       "      <th>click_referrer_type</th>\n",
       "    </tr>\n",
       "  </thead>\n",
       "  <tbody>\n",
       "    <tr>\n",
       "      <th>0</th>\n",
       "      <td>0</td>\n",
       "      <td>1506825423271737</td>\n",
       "      <td>1506825423000</td>\n",
       "      <td>2</td>\n",
       "      <td>157541</td>\n",
       "      <td>1506826828020</td>\n",
       "      <td>4</td>\n",
       "      <td>3</td>\n",
       "      <td>20</td>\n",
       "      <td>1</td>\n",
       "      <td>20</td>\n",
       "      <td>2</td>\n",
       "    </tr>\n",
       "    <tr>\n",
       "      <th>1</th>\n",
       "      <td>0</td>\n",
       "      <td>1506825423271737</td>\n",
       "      <td>1506825423000</td>\n",
       "      <td>2</td>\n",
       "      <td>68866</td>\n",
       "      <td>1506826858020</td>\n",
       "      <td>4</td>\n",
       "      <td>3</td>\n",
       "      <td>20</td>\n",
       "      <td>1</td>\n",
       "      <td>20</td>\n",
       "      <td>2</td>\n",
       "    </tr>\n",
       "    <tr>\n",
       "      <th>2</th>\n",
       "      <td>1</td>\n",
       "      <td>1506825426267738</td>\n",
       "      <td>1506825426000</td>\n",
       "      <td>2</td>\n",
       "      <td>235840</td>\n",
       "      <td>1506827017951</td>\n",
       "      <td>4</td>\n",
       "      <td>1</td>\n",
       "      <td>17</td>\n",
       "      <td>1</td>\n",
       "      <td>16</td>\n",
       "      <td>2</td>\n",
       "    </tr>\n",
       "    <tr>\n",
       "      <th>3</th>\n",
       "      <td>1</td>\n",
       "      <td>1506825426267738</td>\n",
       "      <td>1506825426000</td>\n",
       "      <td>2</td>\n",
       "      <td>96663</td>\n",
       "      <td>1506827047951</td>\n",
       "      <td>4</td>\n",
       "      <td>1</td>\n",
       "      <td>17</td>\n",
       "      <td>1</td>\n",
       "      <td>16</td>\n",
       "      <td>2</td>\n",
       "    </tr>\n",
       "    <tr>\n",
       "      <th>4</th>\n",
       "      <td>2</td>\n",
       "      <td>1506825435299739</td>\n",
       "      <td>1506825435000</td>\n",
       "      <td>2</td>\n",
       "      <td>119592</td>\n",
       "      <td>1506827090575</td>\n",
       "      <td>4</td>\n",
       "      <td>1</td>\n",
       "      <td>17</td>\n",
       "      <td>1</td>\n",
       "      <td>24</td>\n",
       "      <td>2</td>\n",
       "    </tr>\n",
       "  </tbody>\n",
       "</table>\n",
       "</div>"
      ],
      "text/plain": [
       "   user_id        session_id  session_start  session_size  click_article_id  \\\n",
       "0        0  1506825423271737  1506825423000             2            157541   \n",
       "1        0  1506825423271737  1506825423000             2             68866   \n",
       "2        1  1506825426267738  1506825426000             2            235840   \n",
       "3        1  1506825426267738  1506825426000             2             96663   \n",
       "4        2  1506825435299739  1506825435000             2            119592   \n",
       "\n",
       "   click_timestamp  click_environment  click_deviceGroup  click_os  \\\n",
       "0    1506826828020                  4                  3        20   \n",
       "1    1506826858020                  4                  3        20   \n",
       "2    1506827017951                  4                  1        17   \n",
       "3    1506827047951                  4                  1        17   \n",
       "4    1506827090575                  4                  1        17   \n",
       "\n",
       "   click_country  click_region  click_referrer_type  \n",
       "0              1            20                    2  \n",
       "1              1            20                    2  \n",
       "2              1            16                    2  \n",
       "3              1            16                    2  \n",
       "4              1            24                    2  "
      ]
     },
     "metadata": {},
     "output_type": "display_data"
    },
    {
     "name": "stdout",
     "output_type": "stream",
     "text": [
      "\n",
      "Métadonnées articles (articles_metadata.csv)\n",
      "\n",
      "(1883, 12)\n"
     ]
    },
    {
     "data": {
      "text/html": [
       "<div>\n",
       "<style scoped>\n",
       "    .dataframe tbody tr th:only-of-type {\n",
       "        vertical-align: middle;\n",
       "    }\n",
       "\n",
       "    .dataframe tbody tr th {\n",
       "        vertical-align: top;\n",
       "    }\n",
       "\n",
       "    .dataframe thead th {\n",
       "        text-align: right;\n",
       "    }\n",
       "</style>\n",
       "<table border=\"1\" class=\"dataframe\">\n",
       "  <thead>\n",
       "    <tr style=\"text-align: right;\">\n",
       "      <th></th>\n",
       "      <th>article_id</th>\n",
       "      <th>category_id</th>\n",
       "      <th>created_at_ts</th>\n",
       "      <th>publisher_id</th>\n",
       "      <th>words_count</th>\n",
       "    </tr>\n",
       "  </thead>\n",
       "  <tbody>\n",
       "    <tr>\n",
       "      <th>0</th>\n",
       "      <td>0</td>\n",
       "      <td>0</td>\n",
       "      <td>1513144419000</td>\n",
       "      <td>0</td>\n",
       "      <td>168</td>\n",
       "    </tr>\n",
       "    <tr>\n",
       "      <th>1</th>\n",
       "      <td>1</td>\n",
       "      <td>1</td>\n",
       "      <td>1405341936000</td>\n",
       "      <td>0</td>\n",
       "      <td>189</td>\n",
       "    </tr>\n",
       "    <tr>\n",
       "      <th>2</th>\n",
       "      <td>2</td>\n",
       "      <td>1</td>\n",
       "      <td>1408667706000</td>\n",
       "      <td>0</td>\n",
       "      <td>250</td>\n",
       "    </tr>\n",
       "    <tr>\n",
       "      <th>3</th>\n",
       "      <td>3</td>\n",
       "      <td>1</td>\n",
       "      <td>1408468313000</td>\n",
       "      <td>0</td>\n",
       "      <td>230</td>\n",
       "    </tr>\n",
       "    <tr>\n",
       "      <th>4</th>\n",
       "      <td>4</td>\n",
       "      <td>1</td>\n",
       "      <td>1407071171000</td>\n",
       "      <td>0</td>\n",
       "      <td>162</td>\n",
       "    </tr>\n",
       "  </tbody>\n",
       "</table>\n",
       "</div>"
      ],
      "text/plain": [
       "   article_id  category_id  created_at_ts  publisher_id  words_count\n",
       "0           0            0  1513144419000             0          168\n",
       "1           1            1  1405341936000             0          189\n",
       "2           2            1  1408667706000             0          250\n",
       "3           3            1  1408468313000             0          230\n",
       "4           4            1  1407071171000             0          162"
      ]
     },
     "metadata": {},
     "output_type": "display_data"
    }
   ],
   "source": [
    "# Aperçu des données\n",
    "print(\"Interactions (clicks_sample.csv)\\n\")\n",
    "print(clicks_df.shape)\n",
    "display(clicks_df.head())\n",
    "\n",
    "print(\"\\nMétadonnées articles (articles_metadata.csv)\\n\")\n",
    "print(clicks_df.shape)\n",
    "display(meta_df.head())"
   ]
  },
  {
   "cell_type": "markdown",
   "id": "a173fbf0-03e9-4b87-8fcc-cf6f8d9ba626",
   "metadata": {},
   "source": [
    "## Statistiques descriptives\n",
    "\n",
    "Avant d'entraîner notre moteur de recommandation, explorons quelques statistiques clés sur les interactions utilisateur-article.\n",
    "\n",
    "Nous allons analyser :\n",
    "- le nombre total de clics\n",
    "- le nombre d'utilisateurs et d'articles distincts\n",
    "- la distribution des clics par utilisateur\n",
    "- les articles les plus populaires\n"
   ]
  },
  {
   "cell_type": "code",
   "execution_count": 11,
   "id": "958897b9-0b03-4903-9892-64be32f4807a",
   "metadata": {},
   "outputs": [
    {
     "name": "stdout",
     "output_type": "stream",
     "text": [
      "Total de clics enregistrés : 1883\n",
      "Nombre d’utilisateurs uniques : 707\n",
      "Nombre d’articles cliqués : 323\n",
      "Nombre total d’articles dans le catalogue : 364047\n",
      "Couples user-article uniques : 1883\n",
      "Moyenne de clics par couple : 1.00\n",
      "Nombre de clics par utilisateur :\n",
      "  → min     : 2\n",
      "  → moy     : 2.66\n",
      "  → médiane : 2.0\n",
      "  → Q3      : 3.0\n",
      "  → max     : 24\n",
      "Nombre d’utilisateurs ayant effectué plus que 5 clicks : 22\n",
      "Nombre d’utilisateurs ayant effectué plus que 10 clicks : 2\n"
     ]
    }
   ],
   "source": [
    "# Nombre total de clics\n",
    "total_clicks = clicks_df.shape[0]\n",
    "\n",
    "# Nombre d'utilisateurs et d'articles distincts\n",
    "n_users = clicks_df[\"user_id\"].nunique()\n",
    "n_articles_clicked = clicks_df[\"click_article_id\"].nunique()\n",
    "n_articles_total = meta_df[\"article_id\"].nunique()\n",
    "n_unique_pairs = clicks_df[[\"user_id\", \"click_article_id\"]].drop_duplicates().shape[0]\n",
    "n_total = clicks_df.shape[0]\n",
    "\n",
    "# Clics par utilisateur\n",
    "clicks_per_user = clicks_df.groupby(\"user_id\").size()\n",
    "min_clicks = clicks_per_user.min()\n",
    "mean_clicks = clicks_per_user.mean()\n",
    "median_clicks = clicks_per_user.median()\n",
    "q3_clicks = clicks_per_user.quantile(0.75)\n",
    "max_clicks = clicks_per_user.max()\n",
    "\n",
    "\n",
    "# Nombre d'utilisateurs avec plus de 5 et plus de 10 clics\n",
    "n_above_5 = (clicks_per_user > 5).sum()\n",
    "n_above_10 = (clicks_per_user > 10).sum()\n",
    "\n",
    "# Affichage\n",
    "print(f\"Total de clics enregistrés : {total_clicks}\")\n",
    "print(f\"Nombre d’utilisateurs uniques : {n_users}\")\n",
    "print(f\"Nombre d’articles cliqués : {n_articles_clicked}\")\n",
    "print(f\"Nombre total d’articles dans le catalogue : {n_articles_total}\")\n",
    "print(f\"Couples user-article uniques : {n_unique_pairs}\")\n",
    "print(f\"Moyenne de clics par couple : {n_total / n_unique_pairs:.2f}\")\n",
    "print(f\"Nombre de clics par utilisateur :\")\n",
    "print(f\"  → min     : {min_clicks}\")\n",
    "print(f\"  → moy     : {mean_clicks:.2f}\")\n",
    "print(f\"  → médiane : {median_clicks}\")\n",
    "print(f\"  → Q3      : {q3_clicks}\")\n",
    "print(f\"  → max     : {max_clicks}\")\n",
    "print(f\"Nombre d’utilisateurs ayant effectué plus que 5 clicks : {n_above_5}\")\n",
    "print(f\"Nombre d’utilisateurs ayant effectué plus que 10 clicks : {n_above_10}\")"
   ]
  },
  {
   "cell_type": "code",
   "execution_count": 12,
   "id": "43d3550f-2df1-4eec-ab3d-8baac841e132",
   "metadata": {},
   "outputs": [
    {
     "data": {
      "text/plain": [
       "count    1883.0\n",
       "mean        1.0\n",
       "std         0.0\n",
       "min         1.0\n",
       "25%         1.0\n",
       "50%         1.0\n",
       "75%         1.0\n",
       "max         1.0\n",
       "Name: rating, dtype: float64"
      ]
     },
     "metadata": {},
     "output_type": "display_data"
    }
   ],
   "source": [
    "# Compter les clics par utilisateur et article\n",
    "df_counts = clicks_df.groupby([\"user_id\", \"click_article_id\"]).size().reset_index(name=\"rating\")\n",
    "\n",
    "# Aperçu des statistiques\n",
    "display(df_counts[\"rating\"].describe())"
   ]
  },
  {
   "cell_type": "code",
   "execution_count": 13,
   "id": "603f431f-7c51-4d18-8ff2-339b87b8fa49",
   "metadata": {},
   "outputs": [
    {
     "data": {
      "image/png": "[encoded data removed]",
      "text/plain": [
       "<Figure size 1000x500 with 1 Axes>"
      ]
     },
     "metadata": {},
     "output_type": "display_data"
    }
   ],
   "source": [
    "clicks_per_user = clicks_df.groupby(\"user_id\")[\"click_article_id\"].count()\n",
    "\n",
    "plt.figure(figsize=(10, 5))\n",
    "clicks_per_user.hist(bins=50)\n",
    "plt.title(\"Distribution du nombre de clics par utilisateur\")\n",
    "plt.xlabel(\"Nombre de clics\")\n",
    "plt.ylabel(\"Nombre d’utilisateurs\")\n",
    "plt.grid(True)\n",
    "plt.show()"
   ]
  },
  {
   "cell_type": "code",
   "execution_count": 14,
   "id": "d2071851-bcd4-4574-874a-edf3de267ad9",
   "metadata": {},
   "outputs": [
    {
     "data": {
      "image/png": "[encoded data removed]",
      "text/plain": [
       "<Figure size 1000x500 with 1 Axes>"
      ]
     },
     "metadata": {},
     "output_type": "display_data"
    }
   ],
   "source": [
    "# Recalcul des statistiques\n",
    "clicks_per_user = clicks_df.groupby(\"user_id\").size()\n",
    "q1 = clicks_per_user.quantile(0.25)\n",
    "q3 = clicks_per_user.quantile(0.75)\n",
    "iqr = q3 - q1\n",
    "lower_bound = q1 - 1.5 * iqr\n",
    "upper_bound = q3 + 1.5 * iqr\n",
    "\n",
    "# Identifier les outliers\n",
    "outliers = clicks_per_user[clicks_per_user > upper_bound]\n",
    "\n",
    "# Affichage du nombre d'outliers\n",
    "n_outliers = outliers.shape[0]\n",
    "\n",
    "# Nouveau style pour la boîte à moustaches dans le style de l'histogramme\n",
    "plt.figure(figsize=(10, 5))\n",
    "sns.boxplot(data=clicks_per_user, orient=\"h\", color=\"skyblue\")\n",
    "\n",
    "# Ajout des lignes de seuil\n",
    "plt.axvline(upper_bound, color=\"red\", linestyle=\"--\", label=f\"Seuil d'outlier > {upper_bound:.1f}\")\n",
    "plt.axvline(5, color=\"orange\", linestyle=\"--\", label=\"Seuil > 5 clics\")\n",
    "plt.axvline(10, color=\"green\", linestyle=\"--\", label=\"Seuil > 10 clics\")\n",
    "\n",
    "# Style visuel cohérent avec l'histogramme\n",
    "plt.title(\"Distribution du nombre de clics par utilisateur (avec outliers)\")\n",
    "plt.xlabel(\"Nombre de clics\")\n",
    "plt.ylabel(\"Distribution\")\n",
    "plt.legend()\n",
    "plt.grid(True)\n",
    "plt.tight_layout()\n",
    "plt.show()"
   ]
  },
  {
   "cell_type": "code",
   "execution_count": 15,
   "id": "f3a8fef6-92dd-4a15-bb56-4dfaf4c60950",
   "metadata": {},
   "outputs": [
    {
     "data": {
      "text/html": [
       "<div>\n",
       "<style scoped>\n",
       "    .dataframe tbody tr th:only-of-type {\n",
       "        vertical-align: middle;\n",
       "    }\n",
       "\n",
       "    .dataframe tbody tr th {\n",
       "        vertical-align: top;\n",
       "    }\n",
       "\n",
       "    .dataframe thead th {\n",
       "        text-align: right;\n",
       "    }\n",
       "</style>\n",
       "<table border=\"1\" class=\"dataframe\">\n",
       "  <thead>\n",
       "    <tr style=\"text-align: right;\">\n",
       "      <th></th>\n",
       "      <th>article_id</th>\n",
       "      <th>category_id</th>\n",
       "      <th>words_count</th>\n",
       "      <th>nb_clicks</th>\n",
       "    </tr>\n",
       "  </thead>\n",
       "  <tbody>\n",
       "    <tr>\n",
       "      <th>0</th>\n",
       "      <td>119592</td>\n",
       "      <td>247</td>\n",
       "      <td>239</td>\n",
       "      <td>202</td>\n",
       "    </tr>\n",
       "    <tr>\n",
       "      <th>1</th>\n",
       "      <td>96663</td>\n",
       "      <td>209</td>\n",
       "      <td>206</td>\n",
       "      <td>153</td>\n",
       "    </tr>\n",
       "    <tr>\n",
       "      <th>2</th>\n",
       "      <td>108854</td>\n",
       "      <td>230</td>\n",
       "      <td>167</td>\n",
       "      <td>126</td>\n",
       "    </tr>\n",
       "    <tr>\n",
       "      <th>3</th>\n",
       "      <td>284847</td>\n",
       "      <td>412</td>\n",
       "      <td>266</td>\n",
       "      <td>126</td>\n",
       "    </tr>\n",
       "    <tr>\n",
       "      <th>4</th>\n",
       "      <td>235840</td>\n",
       "      <td>375</td>\n",
       "      <td>159</td>\n",
       "      <td>106</td>\n",
       "    </tr>\n",
       "    <tr>\n",
       "      <th>5</th>\n",
       "      <td>145166</td>\n",
       "      <td>269</td>\n",
       "      <td>180</td>\n",
       "      <td>83</td>\n",
       "    </tr>\n",
       "    <tr>\n",
       "      <th>6</th>\n",
       "      <td>68866</td>\n",
       "      <td>136</td>\n",
       "      <td>226</td>\n",
       "      <td>78</td>\n",
       "    </tr>\n",
       "    <tr>\n",
       "      <th>7</th>\n",
       "      <td>288431</td>\n",
       "      <td>418</td>\n",
       "      <td>208</td>\n",
       "      <td>71</td>\n",
       "    </tr>\n",
       "    <tr>\n",
       "      <th>8</th>\n",
       "      <td>207122</td>\n",
       "      <td>331</td>\n",
       "      <td>1044</td>\n",
       "      <td>49</td>\n",
       "    </tr>\n",
       "    <tr>\n",
       "      <th>9</th>\n",
       "      <td>168868</td>\n",
       "      <td>297</td>\n",
       "      <td>147</td>\n",
       "      <td>47</td>\n",
       "    </tr>\n",
       "  </tbody>\n",
       "</table>\n",
       "</div>"
      ],
      "text/plain": [
       "   article_id  category_id  words_count  nb_clicks\n",
       "0      119592          247          239        202\n",
       "1       96663          209          206        153\n",
       "2      108854          230          167        126\n",
       "3      284847          412          266        126\n",
       "4      235840          375          159        106\n",
       "5      145166          269          180         83\n",
       "6       68866          136          226         78\n",
       "7      288431          418          208         71\n",
       "8      207122          331         1044         49\n",
       "9      168868          297          147         47"
      ]
     },
     "execution_count": 15,
     "metadata": {},
     "output_type": "execute_result"
    }
   ],
   "source": [
    "# Forcer les types pour éviter le ValueError\n",
    "clicks_df[\"click_article_id\"] = clicks_df[\"click_article_id\"]\n",
    "meta_df[\"article_id\"] = meta_df[\"article_id\"]\n",
    "\n",
    "# Top 10 des articles les plus cliqués\n",
    "popular_articles = clicks_df[\"click_article_id\"].value_counts().head(10)\n",
    "\n",
    "# Fusion avec les métadonnées disponibles\n",
    "popular_articles_df = pd.DataFrame({\n",
    "    \"article_id\": popular_articles.index,\n",
    "    \"nb_clicks\": popular_articles.values\n",
    "}).merge(meta_df, how=\"left\", on=\"article_id\")\n",
    "\n",
    "# Affichage (adapté aux colonnes réelles)\n",
    "popular_articles_df[[\"article_id\", \"category_id\", \"words_count\", \"nb_clicks\"]]"
   ]
  },
  {
   "cell_type": "markdown",
   "id": "1d89345f-2d79-4a3c-98c1-5309c3b2835e",
   "metadata": {},
   "source": [
    "# Modélisation des systèmes de recommandation\n",
    "\n",
    "Dans cette section, nous comparons plusieurs approches de recommandation en fonction de leur logique, de leurs données d’entrée et de leur comportement :\n",
    "\n",
    "- **Filtrage collaboratif explicite** : basé sur des notes explicites simulées à partir du nombre de clics. Ces modèles apprennent à prédire la \"note\" qu’un utilisateur donnerait à un article.\n",
    "\n",
    "- **Filtrage collaboratif implicite** : basé sur les interactions binaires ou pondérées (clics, vues...), sans note explicite. Ces modèles apprennent des vecteurs latents à partir des comportements partagés entre utilisateurs.\n",
    "\n",
    "- **Recommandation par popularité** : une baseline simple mais robuste, qui recommande les articles les plus cliqués globalement.\n",
    "\n",
    "- **Filtrage basé sur le contenu** : recommandations personnalisées basées sur les caractéristiques intrinsèques des articles (textes, catégories, embeddings…).\n",
    "\n",
    "- **Modèle hybride** : combinaison pondérée de plusieurs sources de recommandation (ici, filtrage collaboratif et content-based) pour améliorer la précision globale.\n",
    "\n",
    "Chaque sous-section présente le principe de l’approche, la méthode d’entraînement, et une évaluation quantitative selon les mêmes métriques.\n"
   ]
  },
  {
   "cell_type": "code",
   "execution_count": 17,
   "id": "d7002954-0b6c-444d-b51e-cde36236dd0d",
   "metadata": {},
   "outputs": [],
   "source": [
    "# Fonctions utilitaires\n",
    "def save_model(path, model):\n",
    "    with open(path, \"wb\") as f:\n",
    "        pickle.dump(model, f)\n",
    "\n",
    "def load_model(path):\n",
    "    with open(path, \"rb\") as f:\n",
    "        return pickle.load(f)"
   ]
  },
  {
   "cell_type": "code",
   "execution_count": 18,
   "id": "75dd269f-1210-4f75-b338-663a85c18e04",
   "metadata": {},
   "outputs": [],
   "source": [
    "#clicks_df = clicks_df.sample(n=50000, random_state=42)"
   ]
  },
  {
   "cell_type": "code",
   "execution_count": 19,
   "id": "012edf54-3450-456f-b4db-923e47e64920",
   "metadata": {},
   "outputs": [],
   "source": [
    "user_encoder = LabelEncoder()\n",
    "article_encoder = LabelEncoder()\n",
    "\n",
    "clicks_df[\"user_enc\"] = user_encoder.fit_transform(clicks_df[\"user_id\"])\n",
    "clicks_df[\"click_enc\"] = article_encoder.fit_transform(clicks_df[\"click_article_id\"])"
   ]
  },
  {
   "cell_type": "markdown",
   "id": "338ca805-64bc-4157-88ed-7ca6972c9f38",
   "metadata": {},
   "source": [
    "## Évaluation des modèles de recommandation\n",
    "\n",
    "Afin de comparer objectivement les performances des différents algorithmes de recommandation testés, nous définissons une classe `RecommenderEvaluator`. Celle-ci permet de calculer plusieurs métriques standards du domaine, basées sur la capacité des modèles à recommander correctement des articles que les utilisateurs ont réellement consultés dans un jeu de test.\n",
    "\n",
    "L’évaluation est faite de manière personnalisée pour chaque utilisateur :\n",
    "- On sélectionne les articles avec lesquels l’utilisateur a interagi dans le jeu de test.\n",
    "- Pour chaque article testé, on échantillonne un ensemble d’articles non vus (négatifs) pour simuler un choix parmi plusieurs options.\n",
    "- On vérifie ensuite si l’article pertinent apparaît dans le top-N des recommandations produites par le modèle.\n",
    "\n",
    "Les métriques suivantes sont calculées :\n",
    "- **Recall@5** et **Recall@10** : proportion d’articles pertinents retrouvés parmi les 5 ou 10 premiers résultats.\n",
    "- **MRR** (*Mean Reciprocal Rank*) : moyenne des rangs inversés des premiers bons résultats.\n",
    "- **MAP** (*Mean Average Precision*) : précision moyenne sur les articles pertinents pour chaque utilisateur.\n",
    "\n",
    "Cette évaluation est appliquée à un échantillon aléatoire d’utilisateurs du jeu de test pour limiter les temps de calcul.\n"
   ]
  },
  {
   "cell_type": "code",
   "execution_count": 21,
   "id": "4b5ff5c4-c1ee-4abc-8e89-263c07c2e151",
   "metadata": {},
   "outputs": [],
   "source": [
    "class RecommenderEvaluator:\n",
    "    def __init__(self, recommender, train_df, test_df, all_article_ids, k=10, n_neg=100):\n",
    "        \"\"\"\n",
    "        recommender : un objet avec une méthode .recommend(user_id, articles_to_rank)\n",
    "        train_df : DataFrame contenant les clics d'entraînement (user_id, click_article_id)\n",
    "        test_df : DataFrame contenant les clics de test\n",
    "        all_article_ids : liste ou array de tous les IDs d'articles possibles\n",
    "        k : nombre de recommandations à évaluer (Top-k)\n",
    "        n_neg : nombre d'articles non cliqués à échantillonner pour chaque test\n",
    "        \"\"\"\n",
    "        self.recommender = recommender\n",
    "        self.train_df = train_df\n",
    "        self.test_df = test_df\n",
    "        self.all_articles = set(all_article_ids)\n",
    "        self.k = k\n",
    "        self.n_neg = n_neg\n",
    "\n",
    "    def get_articles_seen(self, user_id, df):\n",
    "        \"\"\"\n",
    "        Retourne l'ensemble des articles vus (cliqués) par un utilisateur dans un DataFrame donné.\n",
    "        \"\"\"\n",
    "        return set(df[df[\"user_id\"] == user_id][\"click_article_id\"])\n",
    "\n",
    "    def sample_negative_articles(self, user_id):\n",
    "        \"\"\"\n",
    "        Échantillonne aléatoirement des articles que l'utilisateur n'a jamais vus.\n",
    "        Sert à créer un ensemble de comparaison négatif.\n",
    "        \"\"\"\n",
    "        seen = self.get_articles_seen(user_id, self.train_df)\n",
    "        candidates = list(self.all_articles - seen)\n",
    "        return np.random.choice(candidates, size=self.n_neg, replace=False)\n",
    "\n",
    "    def average_precision(self, relevant_articles, recommended_articles, topn):\n",
    "        \"\"\"\n",
    "        Calcule la moyenne des précisions pour un utilisateur.\n",
    "        MAP = Moyenne des précisions aux positions où un article pertinent apparaît.\n",
    "        \"\"\"\n",
    "        hits = 0\n",
    "        sum_precisions = 0\n",
    "        for i, article_id in enumerate(recommended_articles[:topn]):\n",
    "            if article_id in relevant_articles:\n",
    "                hits += 1\n",
    "                precision_at_i = hits / (i + 1)\n",
    "                sum_precisions += precision_at_i\n",
    "        if hits == 0:\n",
    "            return 0.0\n",
    "        return sum_precisions / min(len(relevant_articles), topn)\n",
    "\n",
    "    def evaluate_user(self, user_id):\n",
    "        \"\"\"\n",
    "        Évalue les performances de la recommandation pour un utilisateur :\n",
    "        - Recall@k : % des articles pertinents dans le Top-k\n",
    "        - MRR@k : Reciprocal Rank du premier bon article\n",
    "        - MAP@k : Moyenne des précisions\n",
    "        \"\"\"\n",
    "        relevant_articles = self.get_articles_seen(user_id, self.test_df)\n",
    "        if len(relevant_articles) == 0:\n",
    "            return None\n",
    "\n",
    "        hits = 0\n",
    "        mrr = 0\n",
    "        recommended_articles = []\n",
    "\n",
    "        # Pour chaque article réellement cliqué, on fait une évaluation simulée\n",
    "        for true_article in relevant_articles:\n",
    "            # Échantillon d'articles non cliqués\n",
    "            negative_sample = self.sample_negative_articles(user_id)\n",
    "            candidates = list(negative_sample) + [true_article]\n",
    "\n",
    "            # Obtenir les scores de recommandation sur les articles à classer\n",
    "            predictions = self.recommender.recommend(user_id, articles_to_rank=candidates)\n",
    "\n",
    "            # Tri décroissant des articles par score\n",
    "            ranked_articles = [a for a, score in sorted(predictions.items(), key=lambda x: -x[1])]\n",
    "            recommended_articles.extend(ranked_articles[:self.k])\n",
    "\n",
    "            # Si l'article cliqué est dans le Top-k\n",
    "            if true_article in ranked_articles[:self.k]:\n",
    "                hits += 1\n",
    "                rank = ranked_articles.index(true_article)\n",
    "                mrr += 1 / (rank + 1)\n",
    "\n",
    "        recall = hits / len(relevant_articles)\n",
    "        mrr /= len(relevant_articles)\n",
    "        map_score = self.average_precision(relevant_articles, ranked_articles, self.k)\n",
    "\n",
    "        return {\n",
    "            \"user_id\": user_id,\n",
    "            f\"recall@{self.k}\": recall,\n",
    "            f\"mrr@{self.k}\": mrr,\n",
    "            f\"map@{self.k}\": map_score\n",
    "        }, recommended_articles\n",
    "\n",
    "    def evaluate(self, users_subset=None, verbose=False):\n",
    "        \"\"\"\n",
    "        Lance l'évaluation globale sur tous les utilisateurs du jeu de test\n",
    "        (ou un sous-ensemble si précisé).\n",
    "        Renvoie :\n",
    "        - les métriques moyennes globales\n",
    "        - un DataFrame avec les métriques par utilisateur\n",
    "        \"\"\"\n",
    "        users = self.test_df[\"user_id\"].unique() if users_subset is None else users_subset\n",
    "        results = []\n",
    "        recommendations = {}\n",
    "\n",
    "        for user_id in tqdm(users, desc=\"Évaluation Top-N\"):\n",
    "            metrics, recs = self.evaluate_user(user_id)\n",
    "            if metrics:\n",
    "                results.append(metrics)\n",
    "                recommendations[user_id] = recs\n",
    "\n",
    "        df = pd.DataFrame(results)\n",
    "\n",
    "        # Coverage calculation\n",
    "        all_recommended = set(chain.from_iterable(recommendations.values()))\n",
    "        coverage = len(all_recommended) / len(self.all_articles)\n",
    "\n",
    "        global_metrics = {\n",
    "            \"name\": self.recommender.get_name(),\n",
    "            f\"avg_recall@{self.k}\": df[f\"recall@{self.k}\"].mean(),\n",
    "            f\"avg_mrr@{self.k}\": df[f\"mrr@{self.k}\"].mean(),\n",
    "            f\"avg_map@{self.k}\": df[f\"map@{self.k}\"].mean(),\n",
    "            f\"coverage@{self.k}\": coverage\n",
    "        }\n",
    "\n",
    "        return global_metrics, df"
   ]
  },
  {
   "cell_type": "code",
   "execution_count": 22,
   "id": "9ddad7d1-98e0-4e44-b431-735d54cddc3b",
   "metadata": {},
   "outputs": [],
   "source": [
    "class BaseRecommender(ABC):\n",
    "    \"\"\"\n",
    "    Classe de base pour tous les modèles de recommandation.\n",
    "    Chaque modèle doit implémenter la méthode `recommend(user_id, articles_to_rank)`.\n",
    "    \"\"\"\n",
    "\n",
    "    @abstractmethod\n",
    "    def get_name(self):\n",
    "        \"\"\"\n",
    "        Retourne un nom lisible du modèle (ex: \"Content-Based\", \"ALS\", etc.).\n",
    "        \"\"\"\n",
    "        pass\n",
    "\n",
    "    @abstractmethod\n",
    "    def recommend(self, user_id, articles_to_rank):\n",
    "        \"\"\"\n",
    "        Prend un user_id et une liste d'IDs d'articles à scorer,\n",
    "        retourne un dictionnaire {article_id: score}.\n",
    "\n",
    "        articles_to_rank : list[int]\n",
    "        return : dict[int, float]\n",
    "        \"\"\"\n",
    "        pass"
   ]
  },
  {
   "cell_type": "markdown",
   "id": "e92d873f-bea2-442f-9407-5ab358864135",
   "metadata": {},
   "source": [
    "## Filtrage collaboratif explicite\n",
    "\n",
    "Le filtrage collaboratif explicite repose sur des modèles de factorisation matricielle, entraînés à partir de **notes explicites** ou de **valeurs estimées** (par exemple, le nombre de clics agrégés par utilisateur et par article). Ces modèles apprennent à prédire la \"préférence\" d’un utilisateur pour un article donné, même s’il ne l’a jamais consulté, en exploitant les interactions observées dans la base de données.\n",
    "\n",
    "Nous utilisons ici la librairie `Surprise`, spécialisée dans la recommandation à partir de données tabulaires au format `(utilisateur, item, rating)`. Les modèles comme **SVD**, **NMF** ou **KNNWithMeans** peuvent y être entraînés, puis évalués selon les mêmes métriques que les autres approches.\n",
    "\n",
    "Pour rendre ces modèles compatibles avec notre classe d’évaluation commune `ModelEvaluator`, nous définissons une classe d'encapsulation `SurpriseRecommenderWrapper`. Celle-ci fournit une méthode `recommend_items()` permettant de générer des recommandations filtrées et triées pour un utilisateur donné, dans le même format que les autres modèles.\n",
    "\n",
    "L'évaluation est ainsi homogénéisée, ce qui permet une comparaison directe entre filtrage explicite, implicite, content-based, et approches hybrides.\n"
   ]
  },
  {
   "cell_type": "code",
   "execution_count": 24,
   "id": "78a2ddb2-5a7c-420e-b717-67d1a3ebcc04",
   "metadata": {},
   "outputs": [],
   "source": [
    "class SurpriseRecommender(BaseRecommender):\n",
    "    def __init__(self, model, model_name, user_encoder, article_encoder):\n",
    "        \"\"\"\n",
    "        model : modèle entraîné avec Surprise (ex. SVD, NMF)\n",
    "        model_name : nom du modèle pour affichage\n",
    "        user_encoder : encoder sklearn pour les user_id\n",
    "        article_encoder : encoder sklearn pour les click_article_id\n",
    "        \"\"\"\n",
    "        self.model = model\n",
    "        self.model_name = model_name\n",
    "        self.user_encoder = user_encoder\n",
    "        self.article_encoder = article_encoder\n",
    "\n",
    "    def get_name(self):\n",
    "        return self.model_name\n",
    "\n",
    "    def recommend(self, user_id, articles_to_rank):\n",
    "        \"\"\"\n",
    "        Prédit les scores de préférence pour chaque article demandé.\n",
    "        Retourne un dictionnaire {article_id: predicted_score}\n",
    "        \"\"\"\n",
    "        if user_id not in self.user_encoder.classes_:\n",
    "            return {article_id: 0.0 for article_id in articles_to_rank}\n",
    "\n",
    "        user_enc = self.user_encoder.transform([user_id])[0]\n",
    "\n",
    "        predictions = {}\n",
    "        for article_id in articles_to_rank:\n",
    "            if article_id not in self.article_encoder.classes_:\n",
    "                predictions[article_id] = 0.0\n",
    "                continue\n",
    "\n",
    "            article_enc = self.article_encoder.transform([article_id])[0]\n",
    "            pred = self.model.predict(str(user_enc), str(article_enc))\n",
    "            predictions[article_id] = pred.est\n",
    "\n",
    "        return predictions"
   ]
  },
  {
   "cell_type": "markdown",
   "id": "c6bc826e-daa0-450d-8400-bd6a363c9bcc",
   "metadata": {},
   "source": [
    "Les modèles de la librairie `Surprise` attendent des données au format `(utilisateur, article, note)` pour fonctionner. Dans notre cas, nous ne disposons pas de notes explicites, mais uniquement de clics. Nous allons donc estimer une note implicite en comptant le nombre de clics par couple `(utilisateur, article)`.\n",
    "\n",
    "Ce nombre de clics est ensuite utilisé comme **rating** pour entraîner les modèles. Optionnellement, une transformation logarithmique pourrait être appliquée pour atténuer l’impact des utilisateurs très actifs, mais ici nous conservons la valeur brute.\n",
    "\n",
    "Nous réalisons ensuite un découpage aléatoire en jeu d’entraînement et de test (25% des données pour le test). Le format de données est ensuite adapté :\n",
    "- `train_df` est utilisé pour entraîner les modèles de type SVD ou NMF via `Surprise`.\n",
    "- `clicks_train` et `clicks_test` sont utilisés pour évaluer tous les modèles dans une structure unifiée.\n",
    "- `article_ids` contient la liste unique des identifiants d’articles, nécessaire à la classe `ModelEvaluator`.\n",
    "\n",
    "Enfin, nous préparons `trainset` et `testset` dans les formats attendus par `Surprise` : un `Trainset` interne pour l’entraînement, et une liste de tuples pour l’évaluation."
   ]
  },
  {
   "cell_type": "code",
   "execution_count": 26,
   "id": "8da2f4d3-9d52-4bb2-a23c-1f03d77dbd4b",
   "metadata": {},
   "outputs": [],
   "source": [
    "# Compter les clics par couple utilisateur-article\n",
    "df_counts = clicks_df.groupby([\"user_id\", \"click_article_id\"]).size().reset_index(name=\"rating\")\n",
    "\n",
    "# Renommage pour la librairie Surprise\n",
    "df_counts.columns = [\"user\", \"article\", \"rating\"]\n",
    "\n",
    "# Facultatif : normalisation logarithmique des clics pour réduire le biais des utilisateurs très actifs\n",
    "# df_counts[\"rating\"] = np.log1p(df_counts[\"rating\"])\n",
    "\n",
    "# Split explicite entraînement / test\n",
    "train_df, test_df = train_test_split(df_counts, test_size=0.25, random_state=42)\n",
    "\n",
    "# Renommage pour le pipeline standard\n",
    "clicks_train = train_df.rename(columns={\"user\": \"user_id\", \"article\": \"click_article_id\"})\n",
    "clicks_test = test_df.rename(columns={\"user\": \"user_id\", \"article\": \"click_article_id\"})\n",
    "\n",
    "# Liste unique des articles\n",
    "article_ids = df_counts[\"article\"].unique()"
   ]
  },
  {
   "cell_type": "code",
   "execution_count": 27,
   "id": "e54e26f3-f033-4031-a90a-0cb652c16a85",
   "metadata": {},
   "outputs": [
    {
     "name": "stdout",
     "output_type": "stream",
     "text": [
      "Nombre d'utilisateurs : 677\n",
      "Nombre d'articles : 266\n",
      "Plage de ratings : 1 → 1\n"
     ]
    }
   ],
   "source": [
    "# Train SVD sur train_df\n",
    "reader = Reader(rating_scale=(df_counts[\"rating\"].min(), df_counts[\"rating\"].max()))\n",
    "\n",
    "trainset = Dataset.load_from_df(train_df, reader).build_full_trainset()\n",
    "\n",
    "print(f\"Nombre d'utilisateurs : {trainset.n_users}\")\n",
    "print(f\"Nombre d'articles : {trainset.n_items}\")\n",
    "print(f\"Plage de ratings : {df_counts['rating'].min()} → {df_counts['rating'].max()}\")"
   ]
  },
  {
   "cell_type": "markdown",
   "id": "f8556b7c-ee9a-4dce-8936-78899d90a25a",
   "metadata": {},
   "source": [
    "### Singular Value Decomposition (SVD)\n",
    "\n",
    "Dans cette section, nous entraînons un premier moteur de recommandation basé sur l’algorithme **SVD**, une méthode classique du filtrage collaboratif reposant sur la *factorisation matricielle*.\n",
    "\n",
    "Le principe consiste à représenter chaque utilisateur et chaque article dans un *espace latent commun*, défini par un ensemble de dimensions cachées. Ces dimensions peuvent refléter des préférences implicites : par exemple, un intérêt pour certains sujets (technologie, politique, sport…) ou des types de contenus.\n",
    "\n",
    "Le modèle estime la préférence d’un utilisateur pour un article donné en mesurant la proximité entre leurs représentations dans cet espace latent, généralement à l’aide d’un *produit scalaire entre vecteurs*. Cela permet de capturer des affinités même si l’utilisateur n’a jamais interagi directement avec l’article.\n",
    "\n",
    "Nous utilisons ici l’implémentation de **SVD** proposée par la librairie `Surprise`, qui repose sur une *descente de gradient* pour minimiser l’erreur entre les valeurs d’interactions observées (clics) et les valeurs prédites.\n",
    "\n",
    "L’entraînement est réalisé sur **75 %** des données, tandis que **25 %** sont utilisées pour évaluer la performance via la métrique **RMSE** (*Root Mean Squared Error*).\n",
    "Un RMSE faible indique une bonne capacité du modèle à approximer les préférences implicites des utilisateurs.\n",
    "\n",
    "Le moteur de recommandation que nous allons entraîner repose sur une approche de **filtrage collaboratif implicite**, dans laquelle les clics des utilisateurs sont utilisés comme indicateurs d’intérêt.\n",
    "\n",
    "Nous utilisons la librairie `Surprise`, qui attend une structure de données au format **(user, item, rating)**.\n",
    "Dans notre cas, le champ `rating` correspond à un **score implicite dérivé du comportement utilisateur**, généralement basé sur la fréquence des clics observés pour chaque couple *(utilisateur, article)*.\n",
    "\n",
    "Ainsi, plus un utilisateur clique sur un article, plus le score associé sera élevé.\n",
    "Les articles jamais cliqués ne sont pas inclus dans l’entraînement, ce qui signifie que le modèle apprend uniquement à partir des interactions positives observées."
   ]
  },
  {
   "cell_type": "code",
   "execution_count": 29,
   "id": "ad4bac05-5541-422d-83f9-3c2956df7459",
   "metadata": {},
   "outputs": [],
   "source": [
    "# Entraînement\n",
    "svd_model = SVD()\n",
    "svd_model.fit(trainset)\n",
    "\n",
    "# Sauvegarde du modèle\n",
    "save_model(\"models/svd_model.pkl\", svd_model)"
   ]
  },
  {
   "cell_type": "code",
   "execution_count": 30,
   "id": "3cff3803-6ac4-4e05-bc32-704c8c001329",
   "metadata": {},
   "outputs": [
    {
     "name": "stderr",
     "output_type": "stream",
     "text": [
      "Évaluation Top-N: 100%|███████████████████████████████████████████████████████████████████████████████████████████████████████████████████████████████████████████████████████| 352/352 [00:12<00:00, 27.29it/s]"
     ]
    },
    {
     "name": "stdout",
     "output_type": "stream",
     "text": [
      "\n",
      "Évaluation du modèle SVD (Surprise)\n",
      "----------------------------------------------------\n",
      "name                 : SVD\n",
      "avg_recall@10        : 0.0264\n",
      "avg_mrr@10           : 0.0058\n",
      "avg_map@10           : 0.0062\n",
      "coverage@10          : 1.0000\n"
     ]
    },
    {
     "name": "stderr",
     "output_type": "stream",
     "text": [
      "\n"
     ]
    }
   ],
   "source": [
    "svd_recommender = SurpriseRecommender(\n",
    "    model=svd_model, \n",
    "    model_name=\"SVD\",\n",
    "    user_encoder=user_encoder,\n",
    "    article_encoder=article_encoder\n",
    ")\n",
    "\n",
    "evaluator = RecommenderEvaluator(\n",
    "    recommender=svd_recommender,\n",
    "    train_df=clicks_train,\n",
    "    test_df=clicks_test,\n",
    "    all_article_ids=set(clicks_df[\"click_article_id\"].unique()),\n",
    "    k=10\n",
    ")\n",
    "\n",
    "svd_metrics, svd_detailed = evaluator.evaluate()\n",
    "\n",
    "print(\"\\nÉvaluation du modèle SVD (Surprise)\")\n",
    "print(\"----------------------------------------------------\")\n",
    "for k, v in svd_metrics.items():\n",
    "    print(f\"{k:<20} : {v:.4f}\" if isinstance(v, float) else f\"{k:<20} : {v}\")"
   ]
  },
  {
   "cell_type": "markdown",
   "id": "1c77a116-6863-45bf-97cd-d95d378a4eb3",
   "metadata": {},
   "source": [
    "### Non-negative Matrix Factorization (NMF)\n",
    "\n",
    "Dans cette section, nous testons un second modèle de factorisation : **NMF**, pour *Non-negative Matrix Factorization*.\n",
    "Contrairement au SVD, le NMF impose que toutes les composantes des vecteurs latents soient **positives**, ce qui le rend particulièrement adapté aux cas où les interactions sont **implicites, unilatéralement positives**, comme les clics, les vues ou les achats.\n",
    "\n",
    "Le principe du NMF est de représenter la matrice utilisateur-article comme le produit de deux matrices non négatives, chacune correspondant à une représentation latente des utilisateurs et des articles. Les préférences sont alors modélisées comme une combinaison additive de facteurs interprétables, ce qui rend ce modèle intéressant pour des analyses qualitatives.\n",
    "\n",
    "Le modèle NMF de la librairie `Surprise` suit le même principe d’entraînement que le SVD, mais sans inclure de biais utilisateur ou article. Il est optimisé par descente de gradient et utilise par défaut 15 facteurs latents, 50 itérations, et des coefficients de régularisation sur les deux matrices à ajuster selon le jeu de données.\n",
    "\n",
    "Cette approche permet de capturer les préférences sous forme de pondérations positives tout en évitant l’interprétation de signaux négatifs qui n’existent pas dans les données implicites."
   ]
  },
  {
   "cell_type": "code",
   "execution_count": 32,
   "id": "067cad15-244a-475a-9e1c-382c77e0d6b7",
   "metadata": {},
   "outputs": [
    {
     "data": {
      "text/plain": [
       "<surprise.prediction_algorithms.matrix_factorization.NMF at 0x21b79f53af0>"
      ]
     },
     "execution_count": 32,
     "metadata": {},
     "output_type": "execute_result"
    }
   ],
   "source": [
    "# Initialisation et entraînement du modèle\n",
    "nmf_model = NMF()\n",
    "nmf_model.fit(trainset)"
   ]
  },
  {
   "cell_type": "code",
   "execution_count": 33,
   "id": "92afa534-0b6b-4233-a8ca-014f89a43dcc",
   "metadata": {},
   "outputs": [
    {
     "name": "stderr",
     "output_type": "stream",
     "text": [
      "Évaluation Top-N: 100%|███████████████████████████████████████████████████████████████████████████████████████████████████████████████████████████████████████████████████████| 352/352 [00:12<00:00, 28.09it/s]"
     ]
    },
    {
     "name": "stdout",
     "output_type": "stream",
     "text": [
      "\n",
      "Évaluation du modèle NMF (Surprise)\n",
      "----------------------------------------------------\n",
      "name                 : NMF\n",
      "avg_recall@10        : 0.0238\n",
      "avg_mrr@10           : 0.0104\n",
      "avg_map@10           : 0.0093\n",
      "coverage@10          : 1.0000\n"
     ]
    },
    {
     "name": "stderr",
     "output_type": "stream",
     "text": [
      "\n"
     ]
    }
   ],
   "source": [
    "nmf_recommender = SurpriseRecommender(\n",
    "    model=nmf_model, \n",
    "    model_name=\"NMF\",\n",
    "    user_encoder=user_encoder,\n",
    "    article_encoder=article_encoder\n",
    ")\n",
    "\n",
    "evaluator = RecommenderEvaluator(\n",
    "    recommender=nmf_recommender,\n",
    "    train_df=clicks_train,\n",
    "    test_df=clicks_test,\n",
    "    all_article_ids=set(clicks_df[\"click_article_id\"].unique()),\n",
    "    k=10\n",
    ")\n",
    "\n",
    "nmf_metrics, nmf_detailed = evaluator.evaluate()\n",
    "\n",
    "print(\"\\nÉvaluation du modèle NMF (Surprise)\")\n",
    "print(\"----------------------------------------------------\")\n",
    "for k, v in nmf_metrics.items():\n",
    "    print(f\"{k:<20} : {v:.4f}\" if isinstance(v, float) else f\"{k:<20} : {v}\")"
   ]
  },
  {
   "cell_type": "markdown",
   "id": "4a456ea3-1bd1-4332-9013-c1e711069f71",
   "metadata": {},
   "source": [
    "### Filtrage collaboratif par similarité et moyenne (KNNWithMeans)\n",
    "\n",
    "Le modèle `KNNWithMeans` repose sur le principe du **filtrage collaboratif à base de voisinage**, où la préférence d’un utilisateur pour un article est estimée à partir des préférences d’utilisateurs ou d’articles similaires.\n",
    "\n",
    "Contrairement à la méthode KNN classique, ce modèle introduit une correction par la **moyenne des notes** données, afin de prendre en compte les biais individuels des utilisateurs (certains notent systématiquement plus haut ou plus bas que la moyenne).\n",
    "\n",
    "Deux approches sont possibles selon l’orientation choisie :\n",
    "\n",
    "* en mode *user-based*, on identifie les utilisateurs similaires à l’utilisateur cible ;\n",
    "* en mode *item-based*, on identifie les articles similaires à l’article cible.\n",
    "\n",
    "Dans les deux cas, le modèle calcule une **matrice de similarité** (par exemple avec la distance cosinus ou la corrélation de Pearson), sélectionne les *k* éléments les plus proches, et en déduit une estimation de la préférence par pondération.\n",
    "\n",
    "Nous utilisons ici l’implémentation de `KNNWithMeans` proposée par la librairie `Surprise`, avec la possibilité de choisir la méthode de similarité et l’orientation (utilisateur ou article). Le modèle ne nécessite pas d’apprentissage au sens strict : il construit la matrice de similarité à partir des données d’interactions, puis effectue les prédictions à la volée."
   ]
  },
  {
   "cell_type": "code",
   "execution_count": 35,
   "id": "c0d7a12c-373a-40c8-99dd-326435d7207c",
   "metadata": {},
   "outputs": [
    {
     "name": "stdout",
     "output_type": "stream",
     "text": [
      "Computing the cosine similarity matrix...\n",
      "Done computing similarity matrix.\n"
     ]
    },
    {
     "data": {
      "text/plain": [
       "<surprise.prediction_algorithms.knns.KNNWithMeans at 0x21b79ed02b0>"
      ]
     },
     "execution_count": 35,
     "metadata": {},
     "output_type": "execute_result"
    }
   ],
   "source": [
    "# Configuration et entraînement du modèle\n",
    "sim_options = {\n",
    "    \"name\": \"cosine\",\n",
    "    \"user_based\": False  # Similarité entre articles\n",
    "}\n",
    "\n",
    "knn_means_model = KNNWithMeans(sim_options=sim_options, verbose=True)\n",
    "knn_means_model.fit(trainset)"
   ]
  },
  {
   "cell_type": "code",
   "execution_count": 36,
   "id": "b4e0be30-d61c-468e-9248-6e6492c1a2a2",
   "metadata": {},
   "outputs": [
    {
     "name": "stderr",
     "output_type": "stream",
     "text": [
      "Évaluation Top-N: 100%|███████████████████████████████████████████████████████████████████████████████████████████████████████████████████████████████████████████████████████| 352/352 [00:10<00:00, 34.92it/s]\n"
     ]
    },
    {
     "name": "stdout",
     "output_type": "stream",
     "text": [
      "\n",
      "Évaluation du modèle KNNWithMeans (Surprise)\n",
      "----------------------------------------------------\n",
      "name                 : KNNWithMeans\n",
      "avg_recall@10        : 0.0237\n",
      "avg_mrr@10           : 0.0058\n",
      "avg_map@10           : 0.0058\n",
      "coverage@10          : 1.0000\n"
     ]
    }
   ],
   "source": [
    "knn_means_recommender = SurpriseRecommender(\n",
    "    model=knn_means_model, \n",
    "    model_name=\"KNNWithMeans\",\n",
    "    user_encoder=user_encoder,\n",
    "    article_encoder=article_encoder\n",
    ")\n",
    "\n",
    "evaluator = RecommenderEvaluator(\n",
    "    recommender=knn_means_recommender,\n",
    "    train_df=clicks_train,\n",
    "    test_df=clicks_test,\n",
    "    all_article_ids=set(clicks_df[\"click_article_id\"].unique()),\n",
    "    k=10\n",
    ")\n",
    "\n",
    "knn_means_metrics, knn_means_detailed = evaluator.evaluate()\n",
    "\n",
    "print(\"\\nÉvaluation du modèle KNNWithMeans (Surprise)\")\n",
    "print(\"----------------------------------------------------\")\n",
    "for k, v in knn_means_metrics.items():\n",
    "    print(f\"{k:<20} : {v:.4f}\" if isinstance(v, float) else f\"{k:<20} : {v}\")"
   ]
  },
  {
   "cell_type": "markdown",
   "id": "b746f07e-0f0d-4c41-a696-c7a4bb216ee6",
   "metadata": {},
   "source": [
    "## Recommandation par popularité (baseline)\n",
    "\n",
    "L’approche Popularity-Based repose sur un principe simple mais souvent efficace : recommander à tous les utilisateurs les articles les plus populaires, c’est-à-dire ceux qui ont été le plus fréquemment cliqués, consultés ou achetés dans l’ensemble du système.\n",
    "\n",
    "Ce modèle ne cherche pas à personnaliser les recommandations selon le profil ou l’historique de chaque utilisateur. Au contraire, il se base uniquement sur des statistiques agrégées à l’échelle globale. En d’autres termes, les mêmes articles sont proposés à tous, à l’exception de ceux que l’utilisateur a déjà vus (et qui peuvent être ignorés si désiré).\n",
    "\n",
    "Dans le cadre d’un système de recommandation basé sur les clics, la popularité d’un article est souvent mesurée comme le nombre total de clics reçus sur une période donnée. Cette fréquence peut être calculée simplement à partir d’un `groupby` sur l’identifiant de l’article.\n",
    "\n",
    "Bien que cette méthode ne soit ni personnalisée ni contextuelle, elle présente plusieurs avantages :\n",
    "\n",
    "* **Robustesse** : aucune dépendance à un historique utilisateur ou à une structure complexe.\n",
    "* **Rapidité** : pas de phase d’apprentissage, résultats immédiats dès que les données sont disponibles.\n",
    "* **Résilience au cold start utilisateur** : fonctionne même lorsqu’un utilisateur n’a encore interagi avec aucun article.\n",
    "\n",
    "En revanche, cette stratégie souffre de biais forts :\n",
    "\n",
    "* **Biais de popularité** : les articles déjà populaires ont tendance à rester recommandés en boucle.\n",
    "* **Absence de diversité** : tous les utilisateurs voient les mêmes suggestions, ce qui peut limiter la découverte de contenu.\n",
    "\n",
    "Cette approche est souvent utilisée comme **baseline** pour comparer les performances de modèles plus sophistiqués (collaboratifs ou content-based). Elle peut aussi servir de fallback dans les systèmes hybrides, notamment pour les nouveaux utilisateurs ou lors de panne de modèles plus complexes.\n"
   ]
  },
  {
   "cell_type": "code",
   "execution_count": 38,
   "id": "2e2025ed-52e6-446c-956f-b86eddef3d1f",
   "metadata": {},
   "outputs": [],
   "source": [
    "# Split user-based\n",
    "def split_clicks_df(df, test_size=0.25):\n",
    "    train_rows = []\n",
    "    test_rows = []\n",
    "    total_users = df[\"user_id\"].nunique()\n",
    "    for i, (user_id, user_df) in enumerate(df.groupby(\"user_id\")):\n",
    "        if len(user_df) < 2:\n",
    "            train_rows.append(user_df)\n",
    "            continue\n",
    "        train, test = train_test_split(user_df, test_size=test_size, random_state=42)\n",
    "        train_rows.append(train)\n",
    "        test_rows.append(test)\n",
    "    return pd.concat(train_rows), pd.concat(test_rows)\n",
    "\n",
    "clicks_train, clicks_test = split_clicks_df(clicks_df)"
   ]
  },
  {
   "cell_type": "code",
   "execution_count": 39,
   "id": "48a37c99-b667-4a74-948a-83a4dd0cb1bc",
   "metadata": {},
   "outputs": [],
   "source": [
    "class PopularityRecommender(BaseRecommender):\n",
    "    def __init__(self, interactions_df):\n",
    "        \"\"\"\n",
    "        Modèle basé sur la popularité (nombre total de clics par article).\n",
    "        \"\"\"\n",
    "        self.popularity_df = (\n",
    "            interactions_df[\"click_article_id\"]\n",
    "            .value_counts()\n",
    "            .reset_index()\n",
    "            .rename(columns={\"count\": \"click_count\"})\n",
    "        )        \n",
    "        # Dictionnaire article_id → score\n",
    "        self.popularity_scores = dict(\n",
    "            zip(self.popularity_df[\"click_article_id\"], self.popularity_df[\"click_count\"])\n",
    "        )\n",
    "\n",
    "    def get_name(self):\n",
    "        return \"Popularity-Based\"\n",
    "\n",
    "    def recommend(self, user_id, articles_to_rank):\n",
    "        \"\"\"\n",
    "        Retourne un dictionnaire {article_id: score} pour les articles demandés.\n",
    "        \"\"\"\n",
    "        res = {\n",
    "            article_id: self.popularity_scores.get(article_id, 0.0)\n",
    "            for article_id in articles_to_rank\n",
    "        }\n",
    "        return res"
   ]
  },
  {
   "cell_type": "code",
   "execution_count": 40,
   "id": "d62952c0-e64b-4fda-b394-2a7a9b617f84",
   "metadata": {},
   "outputs": [
    {
     "name": "stderr",
     "output_type": "stream",
     "text": [
      "Évaluation Top-N: 100%|█████████████████████████████████████████████████████████████████████████████████████████████████████████████████████████████████████████████████████| 707/707 [00:00<00:00, 1325.38it/s]\n",
      "Évaluation Top-N: 100%|█████████████████████████████████████████████████████████████████████████████████████████████████████████████████████████████████████████████████████| 215/215 [00:00<00:00, 1317.31it/s]"
     ]
    },
    {
     "name": "stdout",
     "output_type": "stream",
     "text": [
      "\n",
      "Évaluation du modèle Popularité\n",
      "----------------------------------------------------\n",
      "Test complet (avec articles populaires) :\n",
      "name                 : Popularity-Based\n",
      "avg_recall@10        : 0.7443\n",
      "avg_mrr@10           : 0.4437\n",
      "avg_map@10           : 0.4387\n",
      "coverage@10          : 0.1827\n",
      "\n",
      "Test filtré (sans articles trop populaires > 5 clics) :\n",
      "name                 : Popularity-Based\n",
      "avg_recall@10        : 0.1598\n",
      "avg_mrr@10           : 0.0247\n",
      "avg_map@10           : 0.0243\n",
      "coverage@10          : 0.1796\n"
     ]
    },
    {
     "name": "stderr",
     "output_type": "stream",
     "text": [
      "\n"
     ]
    }
   ],
   "source": [
    "# Création du modèle de popularité\n",
    "pop_recommender = PopularityRecommender(interactions_df=clicks_train)\n",
    "\n",
    "# Identification des articles populaires (cliqués > 5 fois dans le test)\n",
    "article_freq = clicks_test[\"click_article_id\"].value_counts()\n",
    "most_popular_articles = article_freq[article_freq > 5].index\n",
    "\n",
    "# Évaluation 1 : test complet (avec articles populaires)\n",
    "evaluator_all = RecommenderEvaluator(\n",
    "    recommender=pop_recommender,\n",
    "    train_df=clicks_train,\n",
    "    test_df=clicks_test,\n",
    "    all_article_ids=set(clicks_df[\"click_article_id\"].unique()),\n",
    "    k=10\n",
    ")\n",
    "pop_metrics, pop_detailed = evaluator_all.evaluate()\n",
    "\n",
    "# Évaluation 2 : test filtré (sans articles trop populaires)\n",
    "filtered_test = clicks_test[~clicks_test[\"click_article_id\"].isin(most_popular_articles)]\n",
    "\n",
    "evaluator_filtered = RecommenderEvaluator(\n",
    "    recommender=pop_recommender,\n",
    "    train_df=clicks_train,\n",
    "    test_df=filtered_test,\n",
    "    all_article_ids=set(clicks_df[\"click_article_id\"].unique()),\n",
    "    k=10\n",
    ")\n",
    "pop_metrics_filtered, pop_detailed_filtered = evaluator_filtered.evaluate()\n",
    "\n",
    "# Affichage comparatif\n",
    "print(\"\\nÉvaluation du modèle Popularité\")\n",
    "print(\"----------------------------------------------------\")\n",
    "print(\"Test complet (avec articles populaires) :\")\n",
    "for k, v in pop_metrics.items():\n",
    "    print(f\"{k:<20} : {v:.4f}\" if isinstance(v, float) else f\"{k:<20} : {v}\")\n",
    "\n",
    "print(\"\\nTest filtré (sans articles trop populaires > 5 clics) :\")\n",
    "for k, v in pop_metrics_filtered.items():\n",
    "    print(f\"{k:<20} : {v:.4f}\" if isinstance(v, float) else f\"{k:<20} : {v}\")\n"
   ]
  },
  {
   "cell_type": "markdown",
   "id": "01b9294c-79eb-4629-b604-65bd6c2e8424",
   "metadata": {},
   "source": [
    "## Filtrage collaboratif implicite\n",
    "\n",
    "### Alternating Least Squares (ALS)\n",
    "\n",
    "L’algorithme ALS repose sur une méthode de factorisation matricielle spécialement conçue pour les **données implicites**, comme les clics, les vues ou les achats, où l’on ne dispose pas de notes explicites de préférence. Ce modèle est particulièrement utilisé dans les environnements industriels, notamment chez des acteurs comme Spotify ou Amazon, en raison de sa **scalabilité** et de sa robustesse sur de grands volumes de données.\n",
    "\n",
    "Contrairement aux modèles de la librairie `Surprise`, qui sont adaptés aux données explicites (par exemple des notes de 1 à 5), ALS fonctionne avec des signaux unilatéralement positifs. C’est pourquoi nous utilisons ici la librairie `implicit`, conçue spécifiquement pour ce cas d’usage. Elle permet de pondérer les interactions en fonction de leur fréquence, de gérer des matrices creuses très grandes, et d’accélérer les calculs grâce à l’utilisation facultative de GPU.\n",
    "\n",
    "Le modèle apprend deux matrices latentes : une pour les utilisateurs, une pour les articles. À chaque itération, les vecteurs d’un côté sont fixés pendant que l’autre est optimisé via une résolution par moindres carrés, puis l’opération est inversée jusqu’à convergence. L’algorithme tient compte de la **confiance** associée à chaque interaction (plus un utilisateur clique sur un article, plus l’information est considérée comme fiable) tout en pénalisant les erreurs sur les interactions absentes.\n",
    "\n",
    "Le modèle `AlternatingLeastSquares` attend une **matrice utilisateur-article au format sparse CSR**, avec des identifiants **entiers encodés** pour les utilisateurs et les articles. Chaque cellule de cette matrice contient une pondération (par exemple le nombre de clics).\n",
    "La préparation des données consiste donc à :\n",
    "\n",
    "* convertir les identifiants en indices entiers via un encodage\n",
    "* construire une matrice creuse en utilisant `scipy.sparse.csr_matrix`\n",
    "\n",
    "Cette représentation est bien adaptée aux grands jeux de données implicites et permet d’entraîner un modèle de recommandation efficace sans avoir recours à des notes explicites."
   ]
  },
  {
   "cell_type": "code",
   "execution_count": 42,
   "id": "931b282e-6ed2-4b66-8ec0-7aed7383e241",
   "metadata": {},
   "outputs": [
    {
     "name": "stdout",
     "output_type": "stream",
     "text": [
      "Matrice utilisateur-article créée : (707, 237)\n"
     ]
    }
   ],
   "source": [
    "# Encodage des identifiants utilisateurs et articles en entiers\n",
    "user_encoder = LabelEncoder()\n",
    "article_encoder = LabelEncoder()\n",
    "\n",
    "clicks_train[\"train_user_enc\"] = user_encoder.fit_transform(clicks_train[\"user_id\"])\n",
    "clicks_train[\"train_article_enc\"] = article_encoder.fit_transform(clicks_train[\"click_article_id\"])\n",
    "\n",
    "# Nombre total d'utilisateurs et d'articles\n",
    "n_users = clicks_train[\"train_user_enc\"].nunique()\n",
    "n_articles = clicks_train[\"train_article_enc\"].nunique()\n",
    "\n",
    "# Construction de la matrice utilisateur-article\n",
    "interaction_values = [1] * len(clicks_train)\n",
    "user_article_matrix = sp.csr_matrix(\n",
    "    (interaction_values, (clicks_train[\"train_user_enc\"], clicks_train[\"train_article_enc\"])),\n",
    "    shape=(n_users, n_articles)\n",
    ")\n",
    "\n",
    "print(f\"Matrice utilisateur-article créée : {user_article_matrix.shape}\")"
   ]
  },
  {
   "cell_type": "markdown",
   "id": "84268f1e-fab8-49e4-b0f1-2a95799405ee",
   "metadata": {},
   "source": [
    "Nous entraînons ici le modèle `ALS` à partir de la matrice CSR d’interactions implicites.  "
   ]
  },
  {
   "cell_type": "code",
   "execution_count": 44,
   "id": "ceac5219-3bf2-4437-931a-c828450dec40",
   "metadata": {},
   "outputs": [
    {
     "data": {
      "text/plain": [
       "<threadpoolctl.threadpool_limits at 0x21b79cbc820>"
      ]
     },
     "execution_count": 44,
     "metadata": {},
     "output_type": "execute_result"
    }
   ],
   "source": [
    "os.environ[\"OPENBLAS_NUM_THREADS\"] = \"1\"\n",
    "\n",
    "from threadpoolctl import threadpool_limits\n",
    "threadpool_limits(1, \"blas\")"
   ]
  },
  {
   "cell_type": "code",
   "execution_count": 45,
   "id": "6ac64d9a-669f-4965-b593-02453aa20ba9",
   "metadata": {},
   "outputs": [],
   "source": [
    "# Implémentation compatible avec RecommenderEvaluator\n",
    "class ALSRecommender(BaseRecommender):\n",
    "    def __init__(self, model, user_encoder, article_encoder, user_article_matrix):\n",
    "        self.model = model\n",
    "        self.user_encoder = user_encoder\n",
    "        self.article_encoder = article_encoder\n",
    "        self.user_article_matrix = user_article_matrix\n",
    "\n",
    "    def get_name(self):\n",
    "        return \"Alternating Least Squares (ALS)\"\n",
    "        \n",
    "    def recommend(self, user_id, articles_to_rank):\n",
    "        if user_id not in self.user_encoder.classes_:\n",
    "            return {article_id: 0.0 for article_id in articles_to_rank}\n",
    "\n",
    "        user_enc = self.user_encoder.transform([user_id])[0]\n",
    "\n",
    "        # Garder uniquement les articles qu’on sait encoder\n",
    "        valid_articles = [a for a in articles_to_rank if a in self.article_encoder.classes_]\n",
    "        article_encs = self.article_encoder.transform(valid_articles)\n",
    "        enc_to_article = {enc: self.article_encoder.inverse_transform([enc])[0] for enc in article_encs}\n",
    "\n",
    "        # Prédiction ALS = produit scalaire user × article\n",
    "        user_vec = self.model.user_factors[user_enc]\n",
    "        article_vecs = self.model.item_factors[article_encs]\n",
    "        scores = user_vec @ article_vecs.T\n",
    "\n",
    "        return {enc_to_article[enc]: float(score) for enc, score in zip(article_encs, scores)}"
   ]
  },
  {
   "cell_type": "code",
   "execution_count": 46,
   "id": "760ebd5a-121b-45ce-a4ba-a28e23788685",
   "metadata": {
    "scrolled": true
   },
   "outputs": [
    {
     "name": "stdout",
     "output_type": "stream",
     "text": [
      "Test: factors=20, reg=0.001, iter=10\n"
     ]
    },
    {
     "data": {
      "application/vnd.jupyter.widget-view+json": {
       "model_id": "504704241cea488784c81e17b08a36b4",
       "version_major": 2,
       "version_minor": 0
      },
      "text/plain": [
       "  0%|          | 0/10 [00:00<?, ?it/s]"
      ]
     },
     "metadata": {},
     "output_type": "display_data"
    },
    {
     "name": "stderr",
     "output_type": "stream",
     "text": [
      "Évaluation Top-N: 100%|███████████████████████████████████████████████████████████████████████████████████████████████████████████████████████████████████████████████████████| 707/707 [00:10<00:00, 68.58it/s]"
     ]
    },
    {
     "name": "stdout",
     "output_type": "stream",
     "text": [
      "Score: 0.05804455445544555\n",
      "Test: factors=20, reg=0.001, iter=20\n"
     ]
    },
    {
     "name": "stderr",
     "output_type": "stream",
     "text": [
      "\n"
     ]
    },
    {
     "data": {
      "application/vnd.jupyter.widget-view+json": {
       "model_id": "80d6432327024d898fe3b40358a47d49",
       "version_major": 2,
       "version_minor": 0
      },
      "text/plain": [
       "  0%|          | 0/20 [00:00<?, ?it/s]"
      ]
     },
     "metadata": {},
     "output_type": "display_data"
    },
    {
     "name": "stderr",
     "output_type": "stream",
     "text": [
      "Évaluation Top-N: 100%|███████████████████████████████████████████████████████████████████████████████████████████████████████████████████████████████████████████████████████| 707/707 [00:10<00:00, 64.63it/s]"
     ]
    },
    {
     "name": "stdout",
     "output_type": "stream",
     "text": [
      "Score: 0.05545873464897509\n",
      "Test: factors=20, reg=0.01, iter=10\n"
     ]
    },
    {
     "name": "stderr",
     "output_type": "stream",
     "text": [
      "\n"
     ]
    },
    {
     "data": {
      "application/vnd.jupyter.widget-view+json": {
       "model_id": "db1ed63ae16b420d9f1c0b35662e99c3",
       "version_major": 2,
       "version_minor": 0
      },
      "text/plain": [
       "  0%|          | 0/10 [00:00<?, ?it/s]"
      ]
     },
     "metadata": {},
     "output_type": "display_data"
    },
    {
     "name": "stderr",
     "output_type": "stream",
     "text": [
      "Évaluation Top-N: 100%|███████████████████████████████████████████████████████████████████████████████████████████████████████████████████████████████████████████████████████| 707/707 [00:12<00:00, 56.27it/s]"
     ]
    },
    {
     "name": "stdout",
     "output_type": "stream",
     "text": [
      "Score: 0.054587814223599235\n",
      "Test: factors=20, reg=0.01, iter=20\n"
     ]
    },
    {
     "name": "stderr",
     "output_type": "stream",
     "text": [
      "\n"
     ]
    },
    {
     "data": {
      "application/vnd.jupyter.widget-view+json": {
       "model_id": "25db421a31364233a5e305e6aba4559e",
       "version_major": 2,
       "version_minor": 0
      },
      "text/plain": [
       "  0%|          | 0/20 [00:00<?, ?it/s]"
      ]
     },
     "metadata": {},
     "output_type": "display_data"
    },
    {
     "name": "stderr",
     "output_type": "stream",
     "text": [
      "Évaluation Top-N: 100%|███████████████████████████████████████████████████████████████████████████████████████████████████████████████████████████████████████████████████████| 707/707 [00:11<00:00, 60.04it/s]\n"
     ]
    },
    {
     "name": "stdout",
     "output_type": "stream",
     "text": [
      "Score: 0.05309462068655846\n",
      "Test: factors=20, reg=0.1, iter=10\n"
     ]
    },
    {
     "data": {
      "application/vnd.jupyter.widget-view+json": {
       "model_id": "efd714e664854e38b31638d60c2310aa",
       "version_major": 2,
       "version_minor": 0
      },
      "text/plain": [
       "  0%|          | 0/10 [00:00<?, ?it/s]"
      ]
     },
     "metadata": {},
     "output_type": "display_data"
    },
    {
     "name": "stderr",
     "output_type": "stream",
     "text": [
      "Évaluation Top-N: 100%|███████████████████████████████████████████████████████████████████████████████████████████████████████████████████████████████████████████████████████| 707/707 [00:10<00:00, 65.53it/s]"
     ]
    },
    {
     "name": "stdout",
     "output_type": "stream",
     "text": [
      "Score: 0.07633612851081027\n",
      "Test: factors=20, reg=0.1, iter=20\n"
     ]
    },
    {
     "name": "stderr",
     "output_type": "stream",
     "text": [
      "\n"
     ]
    },
    {
     "data": {
      "application/vnd.jupyter.widget-view+json": {
       "model_id": "9c09183eb4114931b92f6b4cf26fc2c2",
       "version_major": 2,
       "version_minor": 0
      },
      "text/plain": [
       "  0%|          | 0/20 [00:00<?, ?it/s]"
      ]
     },
     "metadata": {},
     "output_type": "display_data"
    },
    {
     "name": "stderr",
     "output_type": "stream",
     "text": [
      "Évaluation Top-N: 100%|███████████████████████████████████████████████████████████████████████████████████████████████████████████████████████████████████████████████████████| 707/707 [00:10<00:00, 67.65it/s]"
     ]
    },
    {
     "name": "stdout",
     "output_type": "stream",
     "text": [
      "Score: 0.07542741519049864\n",
      "Test: factors=50, reg=0.001, iter=10\n"
     ]
    },
    {
     "name": "stderr",
     "output_type": "stream",
     "text": [
      "\n"
     ]
    },
    {
     "data": {
      "application/vnd.jupyter.widget-view+json": {
       "model_id": "bfc1a9a94de84af785bc50f148fd8837",
       "version_major": 2,
       "version_minor": 0
      },
      "text/plain": [
       "  0%|          | 0/10 [00:00<?, ?it/s]"
      ]
     },
     "metadata": {},
     "output_type": "display_data"
    },
    {
     "name": "stderr",
     "output_type": "stream",
     "text": [
      "Évaluation Top-N: 100%|███████████████████████████████████████████████████████████████████████████████████████████████████████████████████████████████████████████████████████| 707/707 [00:10<00:00, 68.78it/s]"
     ]
    },
    {
     "name": "stdout",
     "output_type": "stream",
     "text": [
      "Score: 0.02787010843941537\n",
      "Test: factors=50, reg=0.001, iter=20\n"
     ]
    },
    {
     "name": "stderr",
     "output_type": "stream",
     "text": [
      "\n"
     ]
    },
    {
     "data": {
      "application/vnd.jupyter.widget-view+json": {
       "model_id": "14bfdc3fbd5241a1a5030ac373820cdc",
       "version_major": 2,
       "version_minor": 0
      },
      "text/plain": [
       "  0%|          | 0/20 [00:00<?, ?it/s]"
      ]
     },
     "metadata": {},
     "output_type": "display_data"
    },
    {
     "name": "stderr",
     "output_type": "stream",
     "text": [
      "Évaluation Top-N: 100%|███████████████████████████████████████████████████████████████████████████████████████████████████████████████████████████████████████████████████████| 707/707 [00:12<00:00, 58.20it/s]"
     ]
    },
    {
     "name": "stdout",
     "output_type": "stream",
     "text": [
      "Score: 0.033466637480074536\n",
      "Test: factors=50, reg=0.01, iter=10\n"
     ]
    },
    {
     "name": "stderr",
     "output_type": "stream",
     "text": [
      "\n"
     ]
    },
    {
     "data": {
      "application/vnd.jupyter.widget-view+json": {
       "model_id": "0db187611e0e4f9785c1dec7509d07ea",
       "version_major": 2,
       "version_minor": 0
      },
      "text/plain": [
       "  0%|          | 0/10 [00:00<?, ?it/s]"
      ]
     },
     "metadata": {},
     "output_type": "display_data"
    },
    {
     "name": "stderr",
     "output_type": "stream",
     "text": [
      "Évaluation Top-N: 100%|███████████████████████████████████████████████████████████████████████████████████████████████████████████████████████████████████████████████████████| 707/707 [00:13<00:00, 51.80it/s]"
     ]
    },
    {
     "name": "stdout",
     "output_type": "stream",
     "text": [
      "Score: 0.028827372533171684\n",
      "Test: factors=50, reg=0.01, iter=20\n"
     ]
    },
    {
     "name": "stderr",
     "output_type": "stream",
     "text": [
      "\n"
     ]
    },
    {
     "data": {
      "application/vnd.jupyter.widget-view+json": {
       "model_id": "c53681fe08784e1ea98a4d083dfb9e57",
       "version_major": 2,
       "version_minor": 0
      },
      "text/plain": [
       "  0%|          | 0/20 [00:00<?, ?it/s]"
      ]
     },
     "metadata": {},
     "output_type": "display_data"
    },
    {
     "name": "stderr",
     "output_type": "stream",
     "text": [
      "Évaluation Top-N: 100%|███████████████████████████████████████████████████████████████████████████████████████████████████████████████████████████████████████████████████████| 707/707 [00:10<00:00, 67.53it/s]"
     ]
    },
    {
     "name": "stdout",
     "output_type": "stream",
     "text": [
      "Score: 0.031170719112727598\n",
      "Test: factors=50, reg=0.1, iter=10\n"
     ]
    },
    {
     "name": "stderr",
     "output_type": "stream",
     "text": [
      "\n"
     ]
    },
    {
     "data": {
      "application/vnd.jupyter.widget-view+json": {
       "model_id": "2f58216bb98c415eb2e38127abf33fda",
       "version_major": 2,
       "version_minor": 0
      },
      "text/plain": [
       "  0%|          | 0/10 [00:00<?, ?it/s]"
      ]
     },
     "metadata": {},
     "output_type": "display_data"
    },
    {
     "name": "stderr",
     "output_type": "stream",
     "text": [
      "Évaluation Top-N: 100%|███████████████████████████████████████████████████████████████████████████████████████████████████████████████████████████████████████████████████████| 707/707 [00:10<00:00, 65.76it/s]"
     ]
    },
    {
     "name": "stdout",
     "output_type": "stream",
     "text": [
      "Score: 0.06093683347926629\n",
      "Test: factors=50, reg=0.1, iter=20\n"
     ]
    },
    {
     "name": "stderr",
     "output_type": "stream",
     "text": [
      "\n"
     ]
    },
    {
     "data": {
      "application/vnd.jupyter.widget-view+json": {
       "model_id": "bd3e9dd4534c4c48828d793060ccb9b1",
       "version_major": 2,
       "version_minor": 0
      },
      "text/plain": [
       "  0%|          | 0/20 [00:00<?, ?it/s]"
      ]
     },
     "metadata": {},
     "output_type": "display_data"
    },
    {
     "name": "stderr",
     "output_type": "stream",
     "text": [
      "Évaluation Top-N: 100%|███████████████████████████████████████████████████████████████████████████████████████████████████████████████████████████████████████████████████████| 707/707 [00:10<00:00, 70.04it/s]"
     ]
    },
    {
     "name": "stdout",
     "output_type": "stream",
     "text": [
      "Score: 0.056561651063065495\n",
      "Test: factors=100, reg=0.001, iter=10\n"
     ]
    },
    {
     "name": "stderr",
     "output_type": "stream",
     "text": [
      "\n"
     ]
    },
    {
     "data": {
      "application/vnd.jupyter.widget-view+json": {
       "model_id": "339cdee81d0949e997a3436517fa63d2",
       "version_major": 2,
       "version_minor": 0
      },
      "text/plain": [
       "  0%|          | 0/10 [00:00<?, ?it/s]"
      ]
     },
     "metadata": {},
     "output_type": "display_data"
    },
    {
     "name": "stderr",
     "output_type": "stream",
     "text": [
      "Évaluation Top-N: 100%|███████████████████████████████████████████████████████████████████████████████████████████████████████████████████████████████████████████████████████| 707/707 [00:10<00:00, 66.27it/s]"
     ]
    },
    {
     "name": "stdout",
     "output_type": "stream",
     "text": [
      "Score: 0.02066354594643138\n",
      "Test: factors=100, reg=0.001, iter=20\n"
     ]
    },
    {
     "name": "stderr",
     "output_type": "stream",
     "text": [
      "\n"
     ]
    },
    {
     "data": {
      "application/vnd.jupyter.widget-view+json": {
       "model_id": "f0fde7090f3f473891b856cbb945ba8c",
       "version_major": 2,
       "version_minor": 0
      },
      "text/plain": [
       "  0%|          | 0/20 [00:00<?, ?it/s]"
      ]
     },
     "metadata": {},
     "output_type": "display_data"
    },
    {
     "name": "stderr",
     "output_type": "stream",
     "text": [
      "Évaluation Top-N: 100%|███████████████████████████████████████████████████████████████████████████████████████████████████████████████████████████████████████████████████████| 707/707 [00:13<00:00, 50.93it/s]"
     ]
    },
    {
     "name": "stdout",
     "output_type": "stream",
     "text": [
      "Score: 0.024952291147482097\n",
      "Test: factors=100, reg=0.01, iter=10\n"
     ]
    },
    {
     "name": "stderr",
     "output_type": "stream",
     "text": [
      "\n"
     ]
    },
    {
     "data": {
      "application/vnd.jupyter.widget-view+json": {
       "model_id": "9fc5eb76b7d24bc095c95f3311660c3a",
       "version_major": 2,
       "version_minor": 0
      },
      "text/plain": [
       "  0%|          | 0/10 [00:00<?, ?it/s]"
      ]
     },
     "metadata": {},
     "output_type": "display_data"
    },
    {
     "name": "stderr",
     "output_type": "stream",
     "text": [
      "Évaluation Top-N: 100%|███████████████████████████████████████████████████████████████████████████████████████████████████████████████████████████████████████████████████████| 707/707 [00:11<00:00, 59.96it/s]"
     ]
    },
    {
     "name": "stdout",
     "output_type": "stream",
     "text": [
      "Score: 0.020411530949013268\n",
      "Test: factors=100, reg=0.01, iter=20\n"
     ]
    },
    {
     "name": "stderr",
     "output_type": "stream",
     "text": [
      "\n"
     ]
    },
    {
     "data": {
      "application/vnd.jupyter.widget-view+json": {
       "model_id": "8d36f6819f3e4a9aa506be60c9df6a82",
       "version_major": 2,
       "version_minor": 0
      },
      "text/plain": [
       "  0%|          | 0/20 [00:00<?, ?it/s]"
      ]
     },
     "metadata": {},
     "output_type": "display_data"
    },
    {
     "name": "stderr",
     "output_type": "stream",
     "text": [
      "Évaluation Top-N: 100%|███████████████████████████████████████████████████████████████████████████████████████████████████████████████████████████████████████████████████████| 707/707 [00:10<00:00, 69.92it/s]"
     ]
    },
    {
     "name": "stdout",
     "output_type": "stream",
     "text": [
      "Score: 0.022507633416402863\n",
      "Test: factors=100, reg=0.1, iter=10\n"
     ]
    },
    {
     "name": "stderr",
     "output_type": "stream",
     "text": [
      "\n"
     ]
    },
    {
     "data": {
      "application/vnd.jupyter.widget-view+json": {
       "model_id": "74a78970997f44f9929314dc257afc89",
       "version_major": 2,
       "version_minor": 0
      },
      "text/plain": [
       "  0%|          | 0/10 [00:00<?, ?it/s]"
      ]
     },
     "metadata": {},
     "output_type": "display_data"
    },
    {
     "name": "stderr",
     "output_type": "stream",
     "text": [
      "Évaluation Top-N: 100%|███████████████████████████████████████████████████████████████████████████████████████████████████████████████████████████████████████████████████████| 707/707 [00:10<00:00, 69.66it/s]"
     ]
    },
    {
     "name": "stdout",
     "output_type": "stream",
     "text": [
      "Score: 0.06040951033878899\n",
      "Test: factors=100, reg=0.1, iter=20\n"
     ]
    },
    {
     "name": "stderr",
     "output_type": "stream",
     "text": [
      "\n"
     ]
    },
    {
     "data": {
      "application/vnd.jupyter.widget-view+json": {
       "model_id": "808450e0bff445b19f916ad3296595a6",
       "version_major": 2,
       "version_minor": 0
      },
      "text/plain": [
       "  0%|          | 0/20 [00:00<?, ?it/s]"
      ]
     },
     "metadata": {},
     "output_type": "display_data"
    },
    {
     "name": "stderr",
     "output_type": "stream",
     "text": [
      "Évaluation Top-N: 100%|███████████████████████████████████████████████████████████████████████████████████████████████████████████████████████████████████████████████████████| 707/707 [00:10<00:00, 66.67it/s]"
     ]
    },
    {
     "name": "stdout",
     "output_type": "stream",
     "text": [
      "Score: 0.0569123111290721\n",
      "\n",
      "Best avg_map@10: 0.0763\n",
      "Best Params: (20, 0.1, 10)\n"
     ]
    },
    {
     "name": "stderr",
     "output_type": "stream",
     "text": [
      "\n"
     ]
    }
   ],
   "source": [
    "param_grid = {\n",
    "    \"factors\": [20, 50, 100],\n",
    "    \"regularization\": [0.001, 0.01, 0.1],\n",
    "    \"iterations\": [10, 20]\n",
    "}\n",
    "\n",
    "best_score = 0\n",
    "best_model = None\n",
    "best_params = None\n",
    "\n",
    "for f, reg, it in product(param_grid[\"factors\"], param_grid[\"regularization\"], param_grid[\"iterations\"]):\n",
    "    print(f\"Test: factors={f}, reg={reg}, iter={it}\")\n",
    "    \n",
    "    model = AlternatingLeastSquares(factors=f, regularization=reg, iterations=it, random_state=42)\n",
    "    model.fit(user_article_matrix)\n",
    "\n",
    "    recommender = ALSRecommender(model, user_encoder, article_encoder, user_article_matrix)\n",
    "\n",
    "    evaluator = RecommenderEvaluator(\n",
    "        recommender=recommender,\n",
    "        train_df=clicks_train,\n",
    "        test_df=clicks_test,\n",
    "        all_article_ids=clicks_df[\"click_article_id\"].unique(),\n",
    "        k=10\n",
    "    )\n",
    "\n",
    "    score, _ = evaluator.evaluate()\n",
    "    current_map = score[\"avg_map@10\"]\n",
    "    print(f\"Score: {current_map}\")\n",
    "    \n",
    "    if current_map > best_score:\n",
    "        best_score = current_map\n",
    "        best_model = model\n",
    "        best_params = (f, reg, it)\n",
    "\n",
    "print(\"\\nBest avg_map@10:\", round(best_score, 4))\n",
    "print(\"Best Params:\", best_params)"
   ]
  },
  {
   "cell_type": "code",
   "execution_count": 47,
   "id": "f68c9511-ad70-46c3-9d4e-2b0fb8c801f2",
   "metadata": {},
   "outputs": [
    {
     "data": {
      "application/vnd.jupyter.widget-view+json": {
       "model_id": "d733b18e1627474b8f2da613fd6defdf",
       "version_major": 2,
       "version_minor": 0
      },
      "text/plain": [
       "  0%|          | 0/10 [00:00<?, ?it/s]"
      ]
     },
     "metadata": {},
     "output_type": "display_data"
    },
    {
     "name": "stdout",
     "output_type": "stream",
     "text": [
      "Modèle ALS entraîné avec succès.\n"
     ]
    }
   ],
   "source": [
    "# Entraînement du modèle ALS\n",
    "factors, regularization, iterations = best_params\n",
    "\n",
    "als_model = AlternatingLeastSquares(\n",
    "    factors=factors,\n",
    "    regularization=regularization,\n",
    "    iterations=iterations,\n",
    "    random_state=42\n",
    ")\n",
    "\n",
    "als_model.fit(user_article_matrix)\n",
    "print(\"Modèle ALS entraîné avec succès.\")"
   ]
  },
  {
   "cell_type": "code",
   "execution_count": 48,
   "id": "73dc5a6a-7e34-4107-8003-84c64bb9944c",
   "metadata": {},
   "outputs": [
    {
     "name": "stderr",
     "output_type": "stream",
     "text": [
      "Évaluation Top-N: 100%|███████████████████████████████████████████████████████████████████████████████████████████████████████████████████████████████████████████████████████| 707/707 [00:13<00:00, 51.54it/s]"
     ]
    },
    {
     "name": "stdout",
     "output_type": "stream",
     "text": [
      "\n",
      "Évaluation du modèle ALS\n",
      "----------------------------------------------------\n",
      "name                 : Alternating Least Squares (ALS)\n",
      "avg_recall@10        : 0.3914\n",
      "avg_mrr@10           : 0.0844\n",
      "avg_map@10           : 0.0819\n",
      "coverage@10          : 0.4892\n"
     ]
    },
    {
     "name": "stderr",
     "output_type": "stream",
     "text": [
      "\n"
     ]
    }
   ],
   "source": [
    "# Création du modèle\n",
    "als_recommender = ALSRecommender(\n",
    "    model=als_model,\n",
    "    user_encoder=user_encoder,\n",
    "    article_encoder=article_encoder,\n",
    "    user_article_matrix=user_article_matrix\n",
    ")\n",
    "\n",
    "# Évaluation avec RecommenderEvaluator\n",
    "evaluator = RecommenderEvaluator(\n",
    "    recommender=als_recommender,\n",
    "    train_df=clicks_train,\n",
    "    test_df=clicks_test,\n",
    "    all_article_ids=set(clicks_df[\"click_article_id\"].unique()),\n",
    "    k=10\n",
    ")\n",
    "\n",
    "als_metrics, als_detailed = evaluator.evaluate()\n",
    "\n",
    "print(\"\\nÉvaluation du modèle ALS\")\n",
    "print(\"----------------------------------------------------\")\n",
    "for k, v in als_metrics.items():\n",
    "    print(f\"{k:<20} : {v:.4f}\" if isinstance(v, float) else f\"{k:<20} : {v}\")"
   ]
  },
  {
   "cell_type": "markdown",
   "id": "bd7aa281-b1a6-4751-a630-6b80b97c0d5e",
   "metadata": {},
   "source": [
    "## Filtrage basé sur le contenu (Embeddings d’articles)\n",
    "\n",
    "Dans cette section, nous explorons une approche de **filtrage par le contenu**, qui repose uniquement sur les caractéristiques des articles eux-mêmes. Contrairement aux méthodes collaboratives qui s’appuient sur les interactions utilisateurs, le filtrage content-based permet de recommander des articles similaires à ceux déjà consultés, sans avoir besoin de données sur les autres utilisateurs.\n",
    "\n",
    "Nous utilisons pour cela un fichier `articles_embeddings.pickle`, qui contient pour chaque article un **vecteur d’embedding dense**. Ces vecteurs, généralement obtenus à partir de modèles de traitement du langage (par exemple Word2Vec ou BERT), permettent de représenter le contenu sémantique des articles dans un espace vectoriel.\n",
    "\n",
    "L’idée est simple : pour un utilisateur donné, on identifie les articles qu’il a déjà lus, on calcule la moyenne de leurs vecteurs d’embedding, puis on mesure la **similarité cosinus** entre ce vecteur moyen et tous les autres articles du catalogue. Les articles les plus similaires sont alors proposés comme recommandations.\n",
    "\n",
    "Ce type de moteur est particulièrement utile dans les cas suivants :\n",
    "\n",
    "* lorsque l’on veut faire des recommandations **indépendantes des autres utilisateurs** ;\n",
    "* dans des situations de **cold start utilisateur** (ex. nouvel inscrit sans historique) ;\n",
    "* ou en complément d’un modèle collaboratif dans un système **hybride**.\n",
    "\n",
    "La seule condition est de disposer de représentations vectorielles fiables et cohérentes du contenu des articles."
   ]
  },
  {
   "cell_type": "code",
   "execution_count": 50,
   "id": "f431cb5a-14e4-4eec-8f34-001bcb8f5796",
   "metadata": {},
   "outputs": [],
   "source": [
    "# Chargement des embeddings d'articles\n",
    "with open(f\"{data_path}/articles_embeddings.pickle\", \"rb\") as f:\n",
    "    article_embeddings = pickle.load(f)\n",
    "    \n",
    "assert len(article_embeddings) == len(meta_df[\"article_id\"].tolist()), \"Mismatch between embeddings and article IDs\""
   ]
  },
  {
   "cell_type": "code",
   "execution_count": 51,
   "id": "36f3415c-03af-40ac-bc56-ee90f8a9fa99",
   "metadata": {},
   "outputs": [],
   "source": [
    "# Modèle de recommandation basé sur le contenu (articles)\n",
    "class ContentBasedRecommender:\n",
    "    def __init__(self, article_ids, article_embeddings, interactions_df):\n",
    "        self.article_ids = np.array(article_ids)\n",
    "        self.article_embeddings = article_embeddings\n",
    "        self.interactions_df = interactions_df\n",
    "        self.article_index = {article_id: idx for idx, article_id in enumerate(article_ids)}\n",
    "\n",
    "    def get_name(self):\n",
    "        return 'Content-Based'\n",
    "    \n",
    "    def recommend(self, user_id, articles_to_rank):\n",
    "        seen_articles = set(self.interactions_df[self.interactions_df[\"user_id\"] == user_id][\"click_article_id\"])\n",
    "        seen_idxs = [self.article_index[a] for a in seen_articles if a in self.article_index]\n",
    "        if not seen_idxs:\n",
    "            return {article_id: 0.0 for article_id in articles_to_rank}\n",
    "        user_profile = self.article_embeddings[seen_idxs].mean(axis=0)\n",
    "        user_profile = user_profile / np.linalg.norm(user_profile)\n",
    "        scores = {}\n",
    "        for article_id in articles_to_rank:\n",
    "            if article_id in self.article_index:\n",
    "                idx = self.article_index[article_id]\n",
    "                article_vec = self.article_embeddings[idx]\n",
    "                article_vec = article_vec / np.linalg.norm(article_vec)\n",
    "                scores[article_id] = np.dot(user_profile, article_vec)\n",
    "            else:\n",
    "                scores[article_id] = 0.0\n",
    "        return scores"
   ]
  },
  {
   "cell_type": "code",
   "execution_count": 52,
   "id": "3c5c79bf-b218-46f9-bacc-5a48bc434fe5",
   "metadata": {},
   "outputs": [
    {
     "name": "stderr",
     "output_type": "stream",
     "text": [
      "Évaluation Top-N: 100%|██████████████████████████████████████████████████████████████████████████████████████████████████████████████████████████████████████████████████████| 707/707 [00:01<00:00, 391.10it/s]"
     ]
    },
    {
     "name": "stdout",
     "output_type": "stream",
     "text": [
      "\n",
      "Évaluation du modèle Content-based\n",
      "----------------------------------------------------\n",
      "name                 : Content-Based\n",
      "avg_recall@10        : 0.2442\n",
      "avg_mrr@10           : 0.0931\n",
      "avg_map@10           : 0.0924\n",
      "coverage@10          : 0.9133\n"
     ]
    },
    {
     "name": "stderr",
     "output_type": "stream",
     "text": [
      "\n"
     ]
    }
   ],
   "source": [
    "# Création du modèle content-based\n",
    "cb_recommender = ContentBasedRecommender(\n",
    "    article_ids=article_ids,\n",
    "    article_embeddings=article_embeddings,\n",
    "    interactions_df=clicks_train  \n",
    ")\n",
    "\n",
    "# Évaluation avec la classe ArticleRecommenderEvaluator (renommée précédemment)\n",
    "evaluator = RecommenderEvaluator(\n",
    "    recommender=cb_recommender,\n",
    "    train_df=clicks_train,\n",
    "    test_df=clicks_test,\n",
    "    all_article_ids=set(clicks_df[\"click_article_id\"].unique()),\n",
    "    k=10\n",
    ")\n",
    "\n",
    "# Évaluation et affichage des résultats\n",
    "cb_metrics, cb_detailed = evaluator.evaluate()\n",
    "\n",
    "print(\"\\nÉvaluation du modèle Content-based\")\n",
    "print(\"----------------------------------------------------\")\n",
    "for k, v in cb_metrics.items():\n",
    "    print(f\"{k:<20} : {v:.4f}\" if isinstance(v, float) else f\"{k:<20} : {v}\")"
   ]
  },
  {
   "cell_type": "markdown",
   "id": "c6cb8072-02db-4025-8f94-0deb93e92691",
   "metadata": {},
   "source": [
    "# Comparaison des résultats\n",
    "\n",
    "Cette section présente une analyse comparative des différents modèles de recommandation testés sur notre jeu de données. \n",
    "\n",
    "L’objectif est de comprendre leur comportement respectif selon plusieurs métriques clés et de dégager des enseignements sur leurs points forts et leurs limites.\n",
    "\n",
    "Les métriques choisies permettent d’évaluer à la fois la pertinence des recommandations et leur capacité à couvrir une variété d’articles.\n",
    "\n",
    "- Le **recall@k** permet de mesurer la proportion des articles cliqués qui sont bien retrouvés dans les k premiers résultats recommandés. C’est un indicateur direct de la capacité du modèle à reproduire les préférences utilisateurs.\n",
    "  \n",
    "- Le **MAP@k** (Mean Average Precision) offre une vision plus fine en prenant en compte la position des articles pertinents dans la liste recommandée. Un bon modèle ne se contente pas de retrouver les bons articles, il les place idéalement en tête de liste.\n",
    "  \n",
    "- Le **MRR@k** (Mean Reciprocal Rank) s’intéresse à la position du tout premier article pertinent. Il est particulièrement utile pour des cas d’usage où l’on souhaite que l’utilisateur clique dès les premières suggestions.\n",
    "  \n",
    "- Enfin, le **coverage@k** mesure la proportion d’articles différents recommandés à l’ensemble des utilisateurs. Un coverage élevé traduit une bonne capacité du modèle à explorer le catalogue et à personnaliser les recommandations."
   ]
  },
  {
   "cell_type": "code",
   "execution_count": 54,
   "id": "f835dd7b-e138-4962-af5d-bb22ab3e896c",
   "metadata": {},
   "outputs": [
    {
     "data": {
      "text/html": [
       "<div>\n",
       "<style scoped>\n",
       "    .dataframe tbody tr th:only-of-type {\n",
       "        vertical-align: middle;\n",
       "    }\n",
       "\n",
       "    .dataframe tbody tr th {\n",
       "        vertical-align: top;\n",
       "    }\n",
       "\n",
       "    .dataframe thead th {\n",
       "        text-align: right;\n",
       "    }\n",
       "</style>\n",
       "<table border=\"1\" class=\"dataframe\">\n",
       "  <thead>\n",
       "    <tr style=\"text-align: right;\">\n",
       "      <th></th>\n",
       "      <th>avg_recall@10</th>\n",
       "      <th>avg_mrr@10</th>\n",
       "      <th>avg_map@10</th>\n",
       "      <th>coverage@10</th>\n",
       "    </tr>\n",
       "    <tr>\n",
       "      <th>name</th>\n",
       "      <th></th>\n",
       "      <th></th>\n",
       "      <th></th>\n",
       "      <th></th>\n",
       "    </tr>\n",
       "  </thead>\n",
       "  <tbody>\n",
       "    <tr>\n",
       "      <th>Popularity-Based</th>\n",
       "      <td>0.7443</td>\n",
       "      <td>0.4437</td>\n",
       "      <td>0.4387</td>\n",
       "      <td>0.1827</td>\n",
       "    </tr>\n",
       "    <tr>\n",
       "      <th>Alternating Least Squares (ALS)</th>\n",
       "      <td>0.3914</td>\n",
       "      <td>0.0844</td>\n",
       "      <td>0.0819</td>\n",
       "      <td>0.4892</td>\n",
       "    </tr>\n",
       "    <tr>\n",
       "      <th>Content-Based</th>\n",
       "      <td>0.2442</td>\n",
       "      <td>0.0931</td>\n",
       "      <td>0.0924</td>\n",
       "      <td>0.9133</td>\n",
       "    </tr>\n",
       "    <tr>\n",
       "      <th>Popularity-Based</th>\n",
       "      <td>0.1598</td>\n",
       "      <td>0.0247</td>\n",
       "      <td>0.0243</td>\n",
       "      <td>0.1796</td>\n",
       "    </tr>\n",
       "    <tr>\n",
       "      <th>SVD</th>\n",
       "      <td>0.0264</td>\n",
       "      <td>0.0058</td>\n",
       "      <td>0.0062</td>\n",
       "      <td>1.0000</td>\n",
       "    </tr>\n",
       "    <tr>\n",
       "      <th>NMF</th>\n",
       "      <td>0.0238</td>\n",
       "      <td>0.0104</td>\n",
       "      <td>0.0093</td>\n",
       "      <td>1.0000</td>\n",
       "    </tr>\n",
       "    <tr>\n",
       "      <th>KNNWithMeans</th>\n",
       "      <td>0.0237</td>\n",
       "      <td>0.0058</td>\n",
       "      <td>0.0058</td>\n",
       "      <td>1.0000</td>\n",
       "    </tr>\n",
       "  </tbody>\n",
       "</table>\n",
       "</div>"
      ],
      "text/plain": [
       "                                 avg_recall@10  avg_mrr@10  avg_map@10  \\\n",
       "name                                                                     \n",
       "Popularity-Based                        0.7443      0.4437      0.4387   \n",
       "Alternating Least Squares (ALS)         0.3914      0.0844      0.0819   \n",
       "Content-Based                           0.2442      0.0931      0.0924   \n",
       "Popularity-Based                        0.1598      0.0247      0.0243   \n",
       "SVD                                     0.0264      0.0058      0.0062   \n",
       "NMF                                     0.0238      0.0104      0.0093   \n",
       "KNNWithMeans                            0.0237      0.0058      0.0058   \n",
       "\n",
       "                                 coverage@10  \n",
       "name                                          \n",
       "Popularity-Based                      0.1827  \n",
       "Alternating Least Squares (ALS)       0.4892  \n",
       "Content-Based                         0.9133  \n",
       "Popularity-Based                      0.1796  \n",
       "SVD                                   1.0000  \n",
       "NMF                                   1.0000  \n",
       "KNNWithMeans                          1.0000  "
      ]
     },
     "metadata": {},
     "output_type": "display_data"
    }
   ],
   "source": [
    "comparatif_df = pd.DataFrame([\n",
    "    svd_metrics,\n",
    "    nmf_metrics,\n",
    "    knn_means_metrics,\n",
    "    pop_metrics,\n",
    "    pop_metrics_filtered,\n",
    "    cb_metrics,\n",
    "    als_metrics\n",
    "]).set_index(\"name\")\n",
    "\n",
    "# Arrondir pour lecture\n",
    "comparatif_df = comparatif_df.round(4)\n",
    "\n",
    "# Tri par recall\n",
    "comparatif_df.sort_values('avg_recall@10', ascending=False, inplace=True)\n",
    "\n",
    "# Afficher\n",
    "display(comparatif_df)"
   ]
  },
  {
   "cell_type": "markdown",
   "id": "0ae3a6a5-05be-4296-86f8-f02afa99d6d3",
   "metadata": {},
   "source": [
    "Le modèle **Popularity-Based** atteint un très bon **recall\\@10 de 0.74** et un **MAP\\@10 de 0.43**, car il recommande systématiquement les articles les plus cliqués. Mais sa **coverage\\@10 est faible (0.18)**, car tous les utilisateurs reçoivent quasiment les mêmes recommandations. Lorsqu’on retire les articles populaires du test, ses performances chutent fortement, avec un **recall\\@10 de seulement 0.16**, confirmant sa dépendance à quelques articles dominants.\n",
    "\n",
    "Le modèle **ALS** propose un **recall\\@10 de 0.38** et une **coverage\\@10 de 0.49**, ce qui en fait un bon compromis entre pertinence et diversité. Cependant, ses scores en **MAP\\@10 (0.0758)** et **MRR\\@10 (0.0785)** restent limités.\n",
    "\n",
    "Le modèle **Content-Based** se distingue par une **coverage\\@10 élevée (0.90)** et une performance stable (**recall\\@10 de 0.25**, **MAP\\@10 de 0.10**, **MRR\\@10 de 0.10**). Il personnalise mieux les recommandations et reste performant même sans dépendre des articles populaires.\n",
    "\n",
    "En conclusion, **Content-Based** est le modèle le plus adapté pour une première mise en production : il combine robustesse, diversité et pertinence, là où Popularity est efficace mais peu adaptable, et ALS encore un peu limité.\n",
    "\n",
    "On va maintenant mesurer pour chaque modèle ses performances en fonction de la taille du Top-k recommandé (par exemple : `k=5`, `k=10`, `k=20`, `k=30`). \n",
    "\n",
    "On va visualiser l’évolution de ces métriques en fonction de k pour chaque modèle, ainsi que des comparaisons directes entre modèles à un instant donné (par exemple recall@10). \n",
    "\n",
    "Ces graphiques permettent de mettre en lumière les dynamiques propres à chaque approche : certains modèles sont très efficaces pour retrouver des articles populaires, d'autres proposent une plus grande diversité mais au prix d’un rappel plus faible.\n",
    "\n",
    "Cette comparaison nous aide à mieux comprendre les compromis entre performance brute, personnalisation et diversité, et constitue une base solide pour orienter les choix futurs de modèles selon les priorités métiers (précision vs découverte)."
   ]
  },
  {
   "cell_type": "code",
   "execution_count": 56,
   "id": "40d3e557-015f-40e3-95bd-2a95a6bead77",
   "metadata": {},
   "outputs": [
    {
     "name": "stderr",
     "output_type": "stream",
     "text": [
      "Évaluation Top-N: 100%|██████████████████████████████████████████████████████████████████████████████████████████████████████████████████████████████████████████████████████| 707/707 [00:01<00:00, 408.98it/s]\n",
      "Évaluation Top-N: 100%|██████████████████████████████████████████████████████████████████████████████████████████████████████████████████████████████████████████████████████| 707/707 [00:01<00:00, 407.72it/s]\n",
      "Évaluation Top-N: 100%|██████████████████████████████████████████████████████████████████████████████████████████████████████████████████████████████████████████████████████| 707/707 [00:01<00:00, 415.22it/s]\n",
      "Évaluation Top-N: 100%|██████████████████████████████████████████████████████████████████████████████████████████████████████████████████████████████████████████████████████| 707/707 [00:01<00:00, 487.26it/s]\n",
      "Évaluation Top-N: 100%|███████████████████████████████████████████████████████████████████████████████████████████████████████████████████████████████████████████████████████| 707/707 [00:11<00:00, 62.37it/s]\n",
      "Évaluation Top-N: 100%|███████████████████████████████████████████████████████████████████████████████████████████████████████████████████████████████████████████████████████| 707/707 [00:10<00:00, 66.86it/s]\n",
      "Évaluation Top-N: 100%|███████████████████████████████████████████████████████████████████████████████████████████████████████████████████████████████████████████████████████| 707/707 [00:10<00:00, 67.17it/s]\n",
      "Évaluation Top-N: 100%|███████████████████████████████████████████████████████████████████████████████████████████████████████████████████████████████████████████████████████| 707/707 [00:12<00:00, 54.85it/s]\n",
      "Évaluation Top-N: 100%|██████████████████████████████████████████████████████████████████████████████████████████████████████████████████████████████████████████████████████| 707/707 [00:00<00:00, 813.64it/s]\n",
      "Évaluation Top-N: 100%|██████████████████████████████████████████████████████████████████████████████████████████████████████████████████████████████████████████████████████| 707/707 [00:00<00:00, 833.35it/s]\n",
      "Évaluation Top-N: 100%|██████████████████████████████████████████████████████████████████████████████████████████████████████████████████████████████████████████████████████| 707/707 [00:00<00:00, 857.76it/s]\n",
      "Évaluation Top-N: 100%|██████████████████████████████████████████████████████████████████████████████████████████████████████████████████████████████████████████████████████| 707/707 [00:00<00:00, 888.97it/s]\n",
      "Évaluation Top-N: 100%|███████████████████████████████████████████████████████████████████████████████████████████████████████████████████████████████████████████████████████| 707/707 [00:20<00:00, 34.28it/s]\n",
      "Évaluation Top-N: 100%|███████████████████████████████████████████████████████████████████████████████████████████████████████████████████████████████████████████████████████| 707/707 [00:17<00:00, 39.55it/s]\n",
      "Évaluation Top-N: 100%|███████████████████████████████████████████████████████████████████████████████████████████████████████████████████████████████████████████████████████| 707/707 [00:19<00:00, 36.97it/s]\n",
      "Évaluation Top-N: 100%|███████████████████████████████████████████████████████████████████████████████████████████████████████████████████████████████████████████████████████| 707/707 [00:20<00:00, 34.99it/s]\n",
      "Évaluation Top-N: 100%|███████████████████████████████████████████████████████████████████████████████████████████████████████████████████████████████████████████████████████| 707/707 [00:18<00:00, 39.03it/s]\n",
      "Évaluation Top-N: 100%|███████████████████████████████████████████████████████████████████████████████████████████████████████████████████████████████████████████████████████| 707/707 [00:19<00:00, 35.66it/s]\n",
      "Évaluation Top-N: 100%|███████████████████████████████████████████████████████████████████████████████████████████████████████████████████████████████████████████████████████| 707/707 [00:21<00:00, 32.90it/s]\n",
      "Évaluation Top-N: 100%|███████████████████████████████████████████████████████████████████████████████████████████████████████████████████████████████████████████████████████| 707/707 [00:18<00:00, 38.44it/s]\n",
      "Évaluation Top-N: 100%|███████████████████████████████████████████████████████████████████████████████████████████████████████████████████████████████████████████████████████| 707/707 [00:20<00:00, 35.28it/s]\n",
      "Évaluation Top-N: 100%|███████████████████████████████████████████████████████████████████████████████████████████████████████████████████████████████████████████████████████| 707/707 [00:20<00:00, 34.67it/s]\n",
      "Évaluation Top-N: 100%|███████████████████████████████████████████████████████████████████████████████████████████████████████████████████████████████████████████████████████| 707/707 [00:17<00:00, 41.30it/s]\n",
      "Évaluation Top-N: 100%|███████████████████████████████████████████████████████████████████████████████████████████████████████████████████████████████████████████████████████| 707/707 [00:18<00:00, 37.56it/s]\n"
     ]
    }
   ],
   "source": [
    "# Simuler la liste des k à tester\n",
    "ks = [5, 10, 20, 30]\n",
    "\n",
    "# Simuler les recommenders déjà créés (utilise des placeholders pour démo)\n",
    "recommenders = {\n",
    "    \"Content-Based\": cb_recommender,\n",
    "    \"ALS\": als_recommender,\n",
    "    \"Popularity\": pop_recommender,\n",
    "    \"SVD\": svd_recommender,\n",
    "    \"NMF\": nmf_recommender,\n",
    "    \"KNNWithMeans\": knn_means_recommender\n",
    "}\n",
    "\n",
    "# Stockage intelligent sous forme de DataFrame\n",
    "records = []\n",
    "\n",
    "for model_name, recommender in recommenders.items():\n",
    "    for k in ks:\n",
    "        evaluator = RecommenderEvaluator(\n",
    "            recommender=recommender,\n",
    "            train_df=clicks_train,\n",
    "            test_df=clicks_test,\n",
    "            all_article_ids=set(clicks_df[\"click_article_id\"].unique()),\n",
    "            k=k\n",
    "        )\n",
    "        metrics, _ = evaluator.evaluate()\n",
    "        records.append({\n",
    "            \"model\": model_name,\n",
    "            \"k\": k,\n",
    "            \"recall\": metrics[f\"avg_recall@{k}\"],\n",
    "            \"map\": metrics[f\"avg_map@{k}\"],\n",
    "            \"mrr\": metrics[f\"avg_mrr@{k}\"],\n",
    "            \"coverage\": metrics.get(f\"coverage@{k}\", None)\n",
    "        })\n",
    "\n",
    "# Convertir en DataFrame pour plotting\n",
    "eval_k_df = pd.DataFrame(records)"
   ]
  },
  {
   "cell_type": "markdown",
   "id": "a86b04af-e284-4b68-8f49-d4c0571dc090",
   "metadata": {},
   "source": [
    "## Comparaison visuelle des modèles de recommandation\n",
    "\n",
    "Le graphique ci-dessous illustre l’évolution comparative des performances des différents modèles selon trois métriques clés : `recall`, `map` (mean average precision) et `coverage`, pour différentes valeurs de `k` (nombre d’articles recommandés).\n",
    "\n",
    "Chaque ligne du graphique correspond à une métrique, et chaque colonne à une valeur de `k`. Cette visualisation permet de :\n",
    "\n",
    "- Mieux percevoir la progression (ou stagnation) des performances de chaque modèle à mesure que l'on augmente la taille du Top-k.\n",
    "- Identifier les modèles les plus efficaces pour capter les clics utilisateurs (`recall`), ceux qui placent les bons articles le plus haut possible (`map`), et ceux qui offrent la plus grande diversité de recommandations (`coverage`).\n"
   ]
  },
  {
   "cell_type": "code",
   "execution_count": 58,
   "id": "bb92df80-8f03-4cdd-82cd-1f2ab65d7db4",
   "metadata": {},
   "outputs": [],
   "source": [
    "def plot_model_comparison_by_k(df, metric=\"recall\", ks=[5, 10, 20]):\n",
    "    \"\"\"\n",
    "    Affiche un subplot horizontal par valeur de k pour une métrique donnée.\n",
    "    \n",
    "    df : DataFrame avec colonnes ['model', 'k', 'recall', 'map', 'mrr', 'coverage']\n",
    "    metric : nom de la métrique à tracer (ex: 'recall')\n",
    "    ks : liste des valeurs de k à afficher\n",
    "    \"\"\"\n",
    "    n = len(ks)\n",
    "    fig, axes = plt.subplots(nrows=1, ncols=n, figsize=(5 * n, 4), sharey=True)\n",
    "\n",
    "    for i, k in enumerate(ks):\n",
    "        ax = axes[i] if n > 1 else axes\n",
    "        df_k = df[df[\"k\"] == k]#.sort_values(metric, ascending=True)\n",
    "        ax.barh(df_k[\"model\"], df_k[metric], color='cornflowerblue')\n",
    "        ax.set_title(f\"{metric}@{k}\")\n",
    "        ax.set_xlabel(metric)\n",
    "        ax.grid(axis='x', linestyle='--', alpha=0.6)\n",
    "        if i == 0:\n",
    "            ax.set_ylabel(\"Modèle\")\n",
    "\n",
    "    plt.suptitle(f\"Comparaison des modèles par '{metric}' pour différentes valeurs de k\", fontsize=14)\n",
    "    plt.tight_layout(rect=[0, 0, 1, 0.95])\n",
    "    plt.show()"
   ]
  },
  {
   "cell_type": "code",
   "execution_count": 59,
   "id": "1e7f28cd-5660-4471-ac85-ba53ef82c700",
   "metadata": {},
   "outputs": [
    {
     "data": {
      "image/png": "[encoded data removed]",
      "text/plain": [
       "<Figure size 2000x400 with 4 Axes>"
      ]
     },
     "metadata": {},
     "output_type": "display_data"
    },
    {
     "data": {
      "image/png": "[encoded data removed]",
      "text/plain": [
       "<Figure size 2000x400 with 4 Axes>"
      ]
     },
     "metadata": {},
     "output_type": "display_data"
    },
    {
     "data": {
      "image/png": "[encoded data removed]",
      "text/plain": [
       "<Figure size 2000x400 with 4 Axes>"
      ]
     },
     "metadata": {},
     "output_type": "display_data"
    }
   ],
   "source": [
    "plot_model_comparison_by_k(eval_k_df, metric=\"recall\", ks=ks)\n",
    "plot_model_comparison_by_k(eval_k_df, metric=\"map\", ks=ks)\n",
    "plot_model_comparison_by_k(eval_k_df, metric=\"coverage\", ks=ks)"
   ]
  },
  {
   "cell_type": "markdown",
   "id": "e2fc327b-966f-4aac-bf13-1c1b0c275635",
   "metadata": {},
   "source": [
    "\n",
    "On observe par exemple que :\n",
    "- Le modèle **Popularity-Based** domine en `recall` et `map`, mais au prix d’un `coverage` très limité.\n",
    "- Le modèle **Content-Based** présente un bon équilibre entre couverture et pertinence.\n",
    "- Les modèles **SVD**, **NMF** et **KNNWithMeans** restent faibles sur toutes les métriques, indiquant qu’ils ne sont pas adaptés dans ce contexte.\n",
    "- Le modèle **ALS** offre une couverture modérée et un rappel correct, mais reste en retrait par rapport aux autres en `map`.\n",
    "\n",
    "Cette analyse comparative aide à orienter le choix du modèle selon les priorités métier : privilégier la précision brute ou maximiser la découverte et la diversité.\n",
    "\n",
    "\n",
    "## Recommandation stratégique\n",
    "\n",
    "Les résultats présentés mettent en évidence des différences notables entre les modèles de recommandation. Le modèle basé sur la popularité (**Popularity-Based**) se distingue par ses très bonnes performances en `recall@k` et `map@k`. \n",
    "\n",
    "Cela s’explique par le fait qu’il recommande systématiquement les articles les plus cliqués dans l’ensemble du dataset. \n",
    "\n",
    "Cette stratégie est efficace lorsque les articles populaires du test sont également présents dans les recommandations — ce qui est souvent le cas lorsque les utilisateurs interagissent avec des contenus très visibles ou mis en avant.\n",
    "\n",
    "Cependant, nous avons montré dans une évaluation complémentaire que **si on retire ces articles populaires du test**, les performances de ce modèle chutent drastiquement. \n",
    "\n",
    "Cela révèle une **dépendance forte à quelques articles dominants**, et surtout, une **incapacité à personnaliser les recommandations**. \n",
    "\n",
    "Le modèle popularity tend à proposer **exactement les mêmes articles à tous les utilisateurs**, ce qui explique son **coverage extrêmement faible**. \n",
    "\n",
    "En pratique, cela signifie qu’un utilisateur peu aligné avec les tendances générales recevra des recommandations peu pertinentes.\n",
    "\n",
    "En comparaison :\n",
    "- Le modèle **Content-Based** offre des performances plus modestes en termes de `recall`, mais avec un bien meilleur `coverage`, ce qui reflète une meilleure capacité à adapter les recommandations aux préférences individuelles.\n",
    "- Le modèle **ALS**, basé sur le filtrage collaboratif implicite, présente également un bon compromis entre personnalisation et pertinence, bien qu’un peu moins performant que le content-based en couverture.\n",
    "\n",
    "On va donc retenir le modèle **Content-Based** pour une utilisation en production dans un premier temps. Il présente les avantages suivants :\n",
    "- Il est **robuste** face à la dominance des articles populaires.\n",
    "- Il **ne dépend pas d’un grand historique d’interactions** utilisateur.\n",
    "- Il propose une **couverture élevée**, ce qui favorise la découverte de nouveaux contenus.\n",
    "- Il est facile à maintenir.\n",
    "\n",
    "Cependant, à mesure que la base d’utilisateurs et les volumes d’interactions augmenteront, le modèle **ALS** pourrait devenir une alternative ou un complément intéressant, notamment dans une approche hybride personnalisé.\n",
    "\n",
    "## Évolution des performances du modèle Content-Based\n",
    "\n",
    "Le graphique ci-dessous montre l’évolution des performances du modèle Content-Based en fonction de la taille du top-k recommandé.\n",
    "\n",
    "On observe que :\n",
    "- **Le recall@k progresse régulièrement** avec la taille du top-k, passant de **0.15 à 0.42 entre k=5 et k=30**. Cela montre que plus on élargit les recommandations, plus le modèle parvient à retrouver les articles cliqués par l’utilisateur.\n",
    "- **Le MAP@k (précision moyenne) atteint un maximum à k=20 (~0.11)**, puis diminue légèrement. Cela suggère que les articles pertinents sont en général bien classés jusqu'à un certain seuil, après quoi l’élargissement du top-k apporte des articles moins bien classés.\n",
    "- **La coverage@k est très élevée dès k=10 (~0.95)** et atteint **plus de 0.99 à k=30**, confirmant que ce modèle recommande une grande variété d’articles à l’ensemble des utilisateurs.\n",
    "\n",
    "Ces résultats confirment la capacité du modèle Content-Based à proposer des recommandations personnalisées, diversifiées et globalement pertinentes, en particulier autour de k=10 à k=20."
   ]
  },
  {
   "cell_type": "code",
   "execution_count": 61,
   "id": "82642c86-f47c-4ef8-a19c-91cb51c8dd00",
   "metadata": {},
   "outputs": [],
   "source": [
    "def plot_metric_evolution(df, model_name, metric=\"recall\"):\n",
    "    \"\"\"\n",
    "    Trace l'évolution d'une métrique (recall, map, mrr, coverage) en fonction de k pour un modèle donné.\n",
    "    \n",
    "    df : DataFrame contenant au moins les colonnes ['model', 'k', <metric>]\n",
    "    model_name : nom du modèle à filtrer (str)\n",
    "    metric : nom de la métrique à tracer (str)\n",
    "    \"\"\"\n",
    "    subset = df[df[\"model\"] == model_name]\n",
    "    subset = subset.sort_values(\"k\")\n",
    "\n",
    "    plt.figure(figsize=(6, 4))\n",
    "    plt.plot(subset[\"k\"], subset[metric], marker='o', color='royalblue')\n",
    "    plt.xlabel(\"k\")\n",
    "    plt.ylabel(f\"{metric}@k\")\n",
    "    plt.title(f\"{metric}@k pour le modèle {model_name}\")\n",
    "    plt.grid(True)\n",
    "    plt.tight_layout()\n",
    "    plt.show()"
   ]
  },
  {
   "cell_type": "code",
   "execution_count": 62,
   "id": "97bfcb6a-39d3-4d83-9983-24ae4e45c9ab",
   "metadata": {},
   "outputs": [
    {
     "data": {
      "image/png": "[encoded data removed]",
      "text/plain": [
       "<Figure size 600x400 with 1 Axes>"
      ]
     },
     "metadata": {},
     "output_type": "display_data"
    },
    {
     "data": {
      "image/png": "[encoded data removed]",
      "text/plain": [
       "<Figure size 600x400 with 1 Axes>"
      ]
     },
     "metadata": {},
     "output_type": "display_data"
    },
    {
     "data": {
      "image/png": "[encoded data removed]",
      "text/plain": [
       "<Figure size 600x400 with 1 Axes>"
      ]
     },
     "metadata": {},
     "output_type": "display_data"
    }
   ],
   "source": [
    "plot_metric_evolution(eval_k_df, model_name=\"Content-Based\", metric=\"recall\")\n",
    "plot_metric_evolution(eval_k_df, model_name=\"Content-Based\", metric=\"map\")\n",
    "plot_metric_evolution(eval_k_df, model_name=\"Content-Based\", metric=\"coverage\")"
   ]
  },
  {
   "cell_type": "markdown",
   "id": "b08382b5-c5ea-45ec-bb25-58380f3822fa",
   "metadata": {},
   "source": [
    "# Génération de recommandations personnalisées\n",
    "\n",
    "Pour intégrer notre modèle Content-Based dans un environnement de production, comme une Azure Function ou une API, nous avons encapsulé le processus de recommandation dans une fonction simple et réutilisable.\n",
    "\n",
    "Cette fonction `recommend_articles_for_user()` prend en entrée :\n",
    "- l’identifiant de l’utilisateur,\n",
    "- une instance du modèle content-based déjà entraîné,\n",
    "- une liste d’articles à classer,\n",
    "- et un paramètre `topn` pour définir le nombre de recommandations à retourner.\n",
    "\n",
    "Elle retourne une liste d’identifiants d’articles, classés par pertinence décroissante pour l’utilisateur.\n",
    "\n",
    "Cette fonction est compatible avec une mise en production dans un service d’inférence (Azure Function, API FastAPI, etc.). Elle peut facilement être adaptée pour retourner des métadonnées (titres, images) si nécessaire.\n"
   ]
  },
  {
   "cell_type": "code",
   "execution_count": 64,
   "id": "0f724336-5079-4439-8d68-4bc7294f0f87",
   "metadata": {},
   "outputs": [],
   "source": [
    "def recommend_articles_for_user(user_id, model, articles_to_rank, topn=10):\n",
    "    \"\"\"\n",
    "    Génère une liste d'articles recommandés pour un utilisateur donné à l’aide d’un modèle Content-Based.\n",
    "\n",
    "    Arguments :\n",
    "    - user_id : identifiant de l'utilisateur (str ou int)\n",
    "    - model : instance du modèle Content-Based (doit implémenter .recommend(user_id, articles_to_rank))\n",
    "    - articles_to_rank : liste des articles disponibles à classer\n",
    "    - topn : nombre de recommandations à retourner (par défaut 10)\n",
    "\n",
    "    Retour :\n",
    "    - Une liste ordonnée d’identifiants d’articles recommandés\n",
    "    \"\"\"\n",
    "    scores = model.recommend(user_id, articles_to_rank)\n",
    "    sorted_articles = sorted(scores.items(), key=lambda x: -x[1])\n",
    "    recommended_ids = [article_id for article_id, _ in sorted_articles[:topn]]\n",
    "    return pd.DataFrame(sorted_articles[:topn], columns=[\"article_id\", \"score\"])"
   ]
  },
  {
   "cell_type": "code",
   "execution_count": 65,
   "id": "04703a02-4d1e-442d-b4b4-07d9cfcdb9a3",
   "metadata": {},
   "outputs": [
    {
     "data": {
      "text/html": [
       "<div>\n",
       "<style scoped>\n",
       "    .dataframe tbody tr th:only-of-type {\n",
       "        vertical-align: middle;\n",
       "    }\n",
       "\n",
       "    .dataframe tbody tr th {\n",
       "        vertical-align: top;\n",
       "    }\n",
       "\n",
       "    .dataframe thead th {\n",
       "        text-align: right;\n",
       "    }\n",
       "</style>\n",
       "<table border=\"1\" class=\"dataframe\">\n",
       "  <thead>\n",
       "    <tr style=\"text-align: right;\">\n",
       "      <th></th>\n",
       "      <th>article_id</th>\n",
       "      <th>score</th>\n",
       "    </tr>\n",
       "  </thead>\n",
       "  <tbody>\n",
       "    <tr>\n",
       "      <th>0</th>\n",
       "      <td>202436</td>\n",
       "      <td>0.748907</td>\n",
       "    </tr>\n",
       "    <tr>\n",
       "      <th>1</th>\n",
       "      <td>284346</td>\n",
       "      <td>0.748769</td>\n",
       "    </tr>\n",
       "    <tr>\n",
       "      <th>2</th>\n",
       "      <td>66457</td>\n",
       "      <td>0.743452</td>\n",
       "    </tr>\n",
       "    <tr>\n",
       "      <th>3</th>\n",
       "      <td>207122</td>\n",
       "      <td>0.737914</td>\n",
       "    </tr>\n",
       "    <tr>\n",
       "      <th>4</th>\n",
       "      <td>198420</td>\n",
       "      <td>0.732637</td>\n",
       "    </tr>\n",
       "    <tr>\n",
       "      <th>5</th>\n",
       "      <td>166553</td>\n",
       "      <td>0.730792</td>\n",
       "    </tr>\n",
       "    <tr>\n",
       "      <th>6</th>\n",
       "      <td>236294</td>\n",
       "      <td>0.730299</td>\n",
       "    </tr>\n",
       "    <tr>\n",
       "      <th>7</th>\n",
       "      <td>288431</td>\n",
       "      <td>0.712244</td>\n",
       "    </tr>\n",
       "    <tr>\n",
       "      <th>8</th>\n",
       "      <td>286413</td>\n",
       "      <td>0.706825</td>\n",
       "    </tr>\n",
       "    <tr>\n",
       "      <th>9</th>\n",
       "      <td>254816</td>\n",
       "      <td>0.695695</td>\n",
       "    </tr>\n",
       "  </tbody>\n",
       "</table>\n",
       "</div>"
      ],
      "text/plain": [
       "   article_id     score\n",
       "0      202436  0.748907\n",
       "1      284346  0.748769\n",
       "2       66457  0.743452\n",
       "3      207122  0.737914\n",
       "4      198420  0.732637\n",
       "5      166553  0.730792\n",
       "6      236294  0.730299\n",
       "7      288431  0.712244\n",
       "8      286413  0.706825\n",
       "9      254816  0.695695"
      ]
     },
     "execution_count": 65,
     "metadata": {},
     "output_type": "execute_result"
    }
   ],
   "source": [
    "user_id = 0\n",
    "\n",
    "all_articles = set(clicks_df[\"click_article_id\"].unique())\n",
    "seen = set(clicks_df[clicks_df[\"user_id\"] == user_id][\"click_article_id\"])\n",
    "articles_to_rank = list(all_articles - seen)\n",
    "\n",
    "recommend_articles_for_user(0, cb_recommender, articles_to_rank)"
   ]
  },
  {
   "cell_type": "markdown",
   "id": "fb3d999f-d4ac-4d4d-a45e-151a09e79094",
   "metadata": {},
   "source": [
    "# Réduction des embeddings pour déploiement Azure\n",
    "\n",
    "Avant de déployer le modèle Content-Based dans Azure Function, nous avons réduit la taille du fichier `articles_embeddings.pickle`, qui contenait les vecteurs d’articles, afin de respecter les limites imposées par l’environnement serverless.\n",
    "\n",
    "Le fichier d'origine pesait environ **250 Mo**, ce qui le rendait peu optimal pour un déploiement dans Azure Function (plan de consommation). \n",
    "\n",
    "L’objectif était donc de réduire sa taille tout en conservant une information suffisante pour la recommandation.\n",
    "\n",
    "Nous avons utilisé une **réduction de dimension par ACP (PCA)** pour compresser les embeddings tout en préservant l’essentiel de leur structure vectorielle.\n",
    "\n",
    "* Méthode : `sklearn.decomposition.PCA`\n",
    "* Dimensions initiales : 250\n",
    "* Dimensions finales : 50\n",
    "* Format de sortie : fichier `articles_embeddings_pca.pickle`\n",
    "\n",
    "| Fichier                              | Dimensions | Taille   |\n",
    "| ------------------------------------ | ---------- | -------- |\n",
    "| `articles_embeddings.pickle`         | (N, 250)   | \\~355 Mo |\n",
    "| `articles_embeddings_pca.pickle` | (N, 50)    | \\~71 Mo  |\n",
    "\n",
    "Le modèle Content-Based a ensuite été adapté pour charger ce fichier réduit, ce qui permet un démarrage rapide de l’API, un déploiement fluide et un respect des limites du plan gratuit Azure."
   ]
  },
  {
   "cell_type": "code",
   "execution_count": 67,
   "id": "5fda04fc-dc1c-427d-9cb3-a343e3b36b97",
   "metadata": {},
   "outputs": [
    {
     "name": "stdout",
     "output_type": "stream",
     "text": [
      "Shape initiale : (364047, 250)\n",
      "Shape réduite : (364047, 50)\n",
      "Fichier réduit enregistré : data/versions/2/articles_embeddings_pca.pickle\n"
     ]
    }
   ],
   "source": [
    "# Chargement des embeddings\n",
    "with open(f\"{data_path}/articles_embeddings.pickle\", \"rb\") as f:\n",
    "    embeddings = pickle.load(f)\n",
    "\n",
    "print(f\"Shape initiale : {embeddings.shape}\")  # (N, D)\n",
    "\n",
    "# Réduction via PCA\n",
    "n_components = 50\n",
    "pca = PCA(n_components=n_components)\n",
    "embeddings_reduced = pca.fit_transform(embeddings)\n",
    "\n",
    "print(f\"Shape réduite : {embeddings_reduced.shape}\")\n",
    "\n",
    "# Sauvegarde dans un nouveau fichier\n",
    "with open(f\"{data_path}/articles_embeddings_pca.pickle\", \"wb\") as f:\n",
    "    pickle.dump(embeddings_reduced, f)\n",
    "\n",
    "print(f\"Fichier réduit enregistré : {data_path}/articles_embeddings_pca.pickle\")"
   ]
  },
  {
   "cell_type": "code",
   "execution_count": 68,
   "id": "be9f2f16-a174-4a96-91ab-eac79f272151",
   "metadata": {},
   "outputs": [],
   "source": [
    "# Chargement des embeddings d'articles reduits\n",
    "with open(f\"{data_path}/articles_embeddings_pca.pickle\", \"rb\") as f:\n",
    "    article_embeddings_pca = pickle.load(f)\n",
    "    \n",
    "assert len(article_embeddings_pca) == len(meta_df[\"article_id\"].tolist()), \"Mismatch between embeddings and article IDs\"\n",
    "\n",
    "# Création du modèle content-based\n",
    "cb_recommender_pca = ContentBasedRecommender(\n",
    "    article_ids=article_ids,\n",
    "    article_embeddings=article_embeddings_pca,\n",
    "    interactions_df=clicks_train  \n",
    ")"
   ]
  },
  {
   "cell_type": "code",
   "execution_count": 69,
   "id": "6f0c764d-ac04-4cc4-94ed-c157672a83d9",
   "metadata": {},
   "outputs": [
    {
     "name": "stderr",
     "output_type": "stream",
     "text": [
      "Évaluation Top-N: 100%|██████████████████████████████████████████████████████████████████████████████████████████████████████████████████████████████████████████████████████| 707/707 [00:01<00:00, 401.96it/s]\n",
      "Évaluation Top-N: 100%|██████████████████████████████████████████████████████████████████████████████████████████████████████████████████████████████████████████████████████| 707/707 [00:01<00:00, 395.11it/s]\n",
      "Évaluation Top-N: 100%|██████████████████████████████████████████████████████████████████████████████████████████████████████████████████████████████████████████████████████| 707/707 [00:01<00:00, 439.29it/s]\n",
      "Évaluation Top-N: 100%|██████████████████████████████████████████████████████████████████████████████████████████████████████████████████████████████████████████████████████| 707/707 [00:01<00:00, 393.60it/s]\n",
      "Évaluation Top-N: 100%|██████████████████████████████████████████████████████████████████████████████████████████████████████████████████████████████████████████████████████| 707/707 [00:01<00:00, 427.05it/s]\n",
      "Évaluation Top-N: 100%|██████████████████████████████████████████████████████████████████████████████████████████████████████████████████████████████████████████████████████| 707/707 [00:01<00:00, 407.95it/s]\n",
      "Évaluation Top-N: 100%|██████████████████████████████████████████████████████████████████████████████████████████████████████████████████████████████████████████████████████| 707/707 [00:01<00:00, 462.62it/s]\n",
      "Évaluation Top-N: 100%|██████████████████████████████████████████████████████████████████████████████████████████████████████████████████████████████████████████████████████| 707/707 [00:01<00:00, 448.00it/s]\n"
     ]
    }
   ],
   "source": [
    "# Simuler la liste des k à tester\n",
    "ks = [5, 10, 20, 30]\n",
    "\n",
    "# Simuler les recommenders déjà créés (utilise des placeholders pour démo)\n",
    "recommenders = {\n",
    "    \"Content-Based\": cb_recommender,\n",
    "    \"Content-Based PCA\": cb_recommender_pca,\n",
    "}\n",
    "\n",
    "# Stockage intelligent sous forme de DataFrame\n",
    "records = []\n",
    "\n",
    "for model_name, recommender in recommenders.items():\n",
    "    for k in ks:\n",
    "        evaluator = RecommenderEvaluator(\n",
    "            recommender=recommender,\n",
    "            train_df=clicks_train,\n",
    "            test_df=clicks_test,\n",
    "            all_article_ids=set(clicks_df[\"click_article_id\"].unique()),\n",
    "            k=k\n",
    "        )\n",
    "        metrics, _ = evaluator.evaluate()\n",
    "        records.append({\n",
    "            \"model\": model_name,\n",
    "            \"k\": k,\n",
    "            \"recall\": metrics[f\"avg_recall@{k}\"],\n",
    "            \"map\": metrics[f\"avg_map@{k}\"],\n",
    "            \"mrr\": metrics[f\"avg_mrr@{k}\"],\n",
    "            \"coverage\": metrics.get(f\"coverage@{k}\", None)\n",
    "        })\n",
    "\n",
    "# Convertir en DataFrame pour plotting\n",
    "cb_eval_k_df = pd.DataFrame(records)"
   ]
  },
  {
   "cell_type": "code",
   "execution_count": 70,
   "id": "43ab5008-523d-4255-abc8-238ae4717f7f",
   "metadata": {},
   "outputs": [
    {
     "data": {
      "text/html": [
       "<div>\n",
       "<style scoped>\n",
       "    .dataframe tbody tr th:only-of-type {\n",
       "        vertical-align: middle;\n",
       "    }\n",
       "\n",
       "    .dataframe tbody tr th {\n",
       "        vertical-align: top;\n",
       "    }\n",
       "\n",
       "    .dataframe thead th {\n",
       "        text-align: right;\n",
       "    }\n",
       "</style>\n",
       "<table border=\"1\" class=\"dataframe\">\n",
       "  <thead>\n",
       "    <tr style=\"text-align: right;\">\n",
       "      <th></th>\n",
       "      <th>model</th>\n",
       "      <th>k</th>\n",
       "      <th>recall</th>\n",
       "      <th>map</th>\n",
       "      <th>mrr</th>\n",
       "      <th>coverage</th>\n",
       "    </tr>\n",
       "  </thead>\n",
       "  <tbody>\n",
       "    <tr>\n",
       "      <th>0</th>\n",
       "      <td>Content-Based</td>\n",
       "      <td>5</td>\n",
       "      <td>0.155587</td>\n",
       "      <td>0.078689</td>\n",
       "      <td>0.079397</td>\n",
       "      <td>0.829721</td>\n",
       "    </tr>\n",
       "    <tr>\n",
       "      <th>1</th>\n",
       "      <td>Content-Based</td>\n",
       "      <td>10</td>\n",
       "      <td>0.244224</td>\n",
       "      <td>0.091130</td>\n",
       "      <td>0.091421</td>\n",
       "      <td>0.900929</td>\n",
       "    </tr>\n",
       "    <tr>\n",
       "      <th>2</th>\n",
       "      <td>Content-Based</td>\n",
       "      <td>20</td>\n",
       "      <td>0.361858</td>\n",
       "      <td>0.102900</td>\n",
       "      <td>0.102959</td>\n",
       "      <td>0.965944</td>\n",
       "    </tr>\n",
       "    <tr>\n",
       "      <th>3</th>\n",
       "      <td>Content-Based</td>\n",
       "      <td>30</td>\n",
       "      <td>0.443423</td>\n",
       "      <td>0.108425</td>\n",
       "      <td>0.109644</td>\n",
       "      <td>0.984520</td>\n",
       "    </tr>\n",
       "    <tr>\n",
       "      <th>4</th>\n",
       "      <td>Content-Based PCA</td>\n",
       "      <td>5</td>\n",
       "      <td>0.153701</td>\n",
       "      <td>0.085090</td>\n",
       "      <td>0.085899</td>\n",
       "      <td>0.835913</td>\n",
       "    </tr>\n",
       "    <tr>\n",
       "      <th>5</th>\n",
       "      <td>Content-Based PCA</td>\n",
       "      <td>10</td>\n",
       "      <td>0.235502</td>\n",
       "      <td>0.093870</td>\n",
       "      <td>0.094316</td>\n",
       "      <td>0.916409</td>\n",
       "    </tr>\n",
       "    <tr>\n",
       "      <th>6</th>\n",
       "      <td>Content-Based PCA</td>\n",
       "      <td>20</td>\n",
       "      <td>0.342999</td>\n",
       "      <td>0.104554</td>\n",
       "      <td>0.105558</td>\n",
       "      <td>0.975232</td>\n",
       "    </tr>\n",
       "    <tr>\n",
       "      <th>7</th>\n",
       "      <td>Content-Based PCA</td>\n",
       "      <td>30</td>\n",
       "      <td>0.417963</td>\n",
       "      <td>0.105213</td>\n",
       "      <td>0.105608</td>\n",
       "      <td>0.990712</td>\n",
       "    </tr>\n",
       "  </tbody>\n",
       "</table>\n",
       "</div>"
      ],
      "text/plain": [
       "               model   k    recall       map       mrr  coverage\n",
       "0      Content-Based   5  0.155587  0.078689  0.079397  0.829721\n",
       "1      Content-Based  10  0.244224  0.091130  0.091421  0.900929\n",
       "2      Content-Based  20  0.361858  0.102900  0.102959  0.965944\n",
       "3      Content-Based  30  0.443423  0.108425  0.109644  0.984520\n",
       "4  Content-Based PCA   5  0.153701  0.085090  0.085899  0.835913\n",
       "5  Content-Based PCA  10  0.235502  0.093870  0.094316  0.916409\n",
       "6  Content-Based PCA  20  0.342999  0.104554  0.105558  0.975232\n",
       "7  Content-Based PCA  30  0.417963  0.105213  0.105608  0.990712"
      ]
     },
     "execution_count": 70,
     "metadata": {},
     "output_type": "execute_result"
    }
   ],
   "source": [
    "cb_eval_k_df"
   ]
  },
  {
   "cell_type": "code",
   "execution_count": 71,
   "id": "b4c733f6-b3b1-4c10-bd5c-143022f707f3",
   "metadata": {},
   "outputs": [
    {
     "data": {
      "image/png": "[encoded data removed]",
      "text/plain": [
       "<Figure size 2000x400 with 4 Axes>"
      ]
     },
     "metadata": {},
     "output_type": "display_data"
    },
    {
     "data": {
      "image/png": "[encoded data removed]",
      "text/plain": [
       "<Figure size 2000x400 with 4 Axes>"
      ]
     },
     "metadata": {},
     "output_type": "display_data"
    },
    {
     "data": {
      "image/png": "[encoded data removed]",
      "text/plain": [
       "<Figure size 2000x400 with 4 Axes>"
      ]
     },
     "metadata": {},
     "output_type": "display_data"
    }
   ],
   "source": [
    "plot_model_comparison_by_k(cb_eval_k_df, metric=\"recall\", ks=ks)\n",
    "plot_model_comparison_by_k(cb_eval_k_df, metric=\"map\", ks=ks)\n",
    "plot_model_comparison_by_k(cb_eval_k_df, metric=\"coverage\", ks=ks)"
   ]
  },
  {
   "cell_type": "markdown",
   "id": "4b16c889-4b74-4161-ba1c-773ed6ceca1a",
   "metadata": {},
   "source": [
    "Dans une logique de déploiement optimisé sur Azure Function, nous avons compressé les embeddings des articles en appliquant une réduction de dimension via PCA. Cela a permis de passer d’un fichier de **350 Mo à 71 Mo**, tout en conservant des performances très proches du modèle initial.\n",
    "\n",
    "Les différences de résultats restent faibles. Par exemple, à `k=30`, le **recall passe de 0.436 à 0.426**, le **MAP de 0.108 à 0.107**, et la **coverage reste quasi-identique** (0.99 contre 0.98). Ces écarts minimes confirment la robustesse du modèle réduit.\n",
    "\n",
    "Ce compromis entre légèreté et efficacité justifie pleinement l’adoption de la version PCA compressée pour le déploiement final dans l’architecture cloud.\n",
    "\n",
    "\n",
    "# Conclusion finale\n",
    "\n",
    "Dans ce notebook, nous avons exploré, implémenté et comparé plusieurs approches de systèmes de recommandation basées sur :\n",
    "\n",
    "- la popularité des articles,\n",
    "- les similarités de contenu (Content-Based),\n",
    "- le filtrage collaboratif implicite (ALS),\n",
    "- et plusieurs modèles classiques basés sur des interactions explicites (SVD, NMF, KNN).\n",
    "\n",
    "L’évaluation a été conduite à l’aide de métriques standards comme le recall@k, le MAP@k, le MRR@k et la couverture, et ce, pour différentes valeurs de `k`. Cela nous a permis d’identifier les forces et limites de chaque approche.\n",
    "\n",
    "Le modèle basé sur la **popularité** a montré des performances très élevées tant que les articles populaires sont présents dans le jeu de test. Cependant, ses recommandations peu diversifiées et très génériques ont révélé une forte dépendance à un petit nombre d’articles dominants.\n",
    "\n",
    "Le modèle **Content-Based** s’est montré bien plus robuste : il offre une **personnalisation plus fine**, une **très bonne couverture** (près de 90% à 99%) et une précision stable, ce qui en fait une solution particulièrement adaptée pour une première mise en production.\n",
    "\n",
    "Le modèle **ALS**, quant à lui, constitue une solution intéressante pour une phase ultérieure, notamment dans un scénario où l’on disposerait d’un volume important d’interactions utilisateur.\n",
    "\n",
    "Enfin, des fonctions ont été mises en place pour permettre une **intégration directe des recommandations dans une API ou une Azure Function**, rendant ce travail directement exploitable dans un environnement applicatif."
   ]
  }
 ],
 "metadata": {
  "kernelspec": {
   "display_name": "Python 3.10 [Recommendation de contenu]",
   "language": "python",
   "name": "p10_venv"
  },
  "language_info": {
   "codemirror_mode": {
    "name": "ipython",
    "version": 3
   },
   "file_extension": ".py",
   "mimetype": "text/x-python",
   "name": "python",
   "nbconvert_exporter": "python",
   "pygments_lexer": "ipython3",
   "version": "3.10.16"
  },
  "widgets": {
   "application/vnd.jupyter.widget-state+json": {
    "state": {},
    "version_major": 2,
    "version_minor": 0
   }
  }
 },
 "nbformat": 4,
 "nbformat_minor": 5
}
